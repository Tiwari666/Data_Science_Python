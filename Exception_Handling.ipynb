{
  "nbformat": 4,
  "nbformat_minor": 0,
  "metadata": {
    "colab": {
      "provenance": [],
      "authorship_tag": "ABX9TyN7ulJetEIFH/FOE6/pKxoL",
      "include_colab_link": true
    },
    "kernelspec": {
      "name": "python3",
      "display_name": "Python 3"
    },
    "language_info": {
      "name": "python"
    }
  },
  "cells": [
    {
      "cell_type": "markdown",
      "metadata": {
        "id": "view-in-github",
        "colab_type": "text"
      },
      "source": [
        "<a href=\"https://colab.research.google.com/github/Tiwari666/Data_Science_Python/blob/main/Exception_Handling.ipynb\" target=\"_parent\"><img src=\"https://colab.research.google.com/assets/colab-badge.svg\" alt=\"Open In Colab\"/></a>"
      ]
    },
    {
      "cell_type": "markdown",
      "source": [
        "#**Exception handling in Python**\n",
        "\n",
        "\n",
        "Exception handling in Python refers to the process of dealing with unexpected events or errors that occur during the execution of a program. Python provides a structured way to handle exceptions using the try, except, else, and finally blocks.\n",
        "\n",
        "Basic Structure:\n",
        "\n",
        "try:\n",
        "    # Code that might raise an exception\n",
        "    # ...\n",
        "except SomeExceptionType:\n",
        "    # Code to handle the specific exception\n",
        "    # ...\n",
        "else:\n",
        "    # Code to execute if no exceptions were raised\n",
        "    # ...\n",
        "finally:\n",
        "    # Optional block that runs regardless of whether an exception occurred\n",
        "    # Used for cleanup operations or resources release\n",
        "    # ...\n",
        "# How Exception Handling Works:\n",
        "\n",
        "# try block:\n",
        "\n",
        "The code that might raise an exception is placed within this block.\n",
        "\n",
        "# except block:\n",
        "\n",
        "If an exception occurs within the try block, Python searches for an appropriate except block that matches the type of exception raised. If found, the code within that except block is executed to handle the exception. Multiple except blocks can be used to handle different types of exceptions.\n",
        "\n",
        "# else block (optional):\n",
        "\n",
        "This block is executed if no exceptions are raised within the try block. It contains code that should only run when no exceptions occur.\n",
        "\n",
        "# finally block (optional):\n",
        "\n",
        "This block is executed regardless of whether an exception occurred. It is used for cleanup operations, such as closing files or releasing resources, and ensures that certain code is executed regardless of whether an exception was raised.\n",
        "\n",
        "# Example:\n",
        "\n",
        "try:\n",
        "\n",
        "    result = 10 / 0  # This will raise a ZeroDivisionError\n",
        "\n",
        "except ZeroDivisionError:\n",
        "\n",
        "    print(\"Division by zero is not allowed\")\n",
        "else:\n",
        "\n",
        "    print(\"Result:\", result)\n",
        "\n",
        "finally:\n",
        "\n",
        "    print(\"Execution completed\")  # This will always execute\n",
        "# Benefits of Exception Handling:\n",
        "\n",
        "Error Handling: Allows you to gracefully manage errors without crashing the program.\n",
        "\n",
        "Robustness: Enhances the robustness of your code by handling unexpected scenarios.\n",
        "\n",
        "Resource Cleanup: Ensures proper release of resources (files, connections, etc.) even in the presence of errors.\n",
        "Exception handling is a fundamental concept in Python programming and is crucial for writing reliable and maintainable code that can handle various error scenarios gracefully.\n",
        "\n",
        "\n"
      ],
      "metadata": {
        "id": "ZL-9XvuyyBW_"
      }
    },
    {
      "cell_type": "markdown",
      "source": [
        "# Different Types of Error:\n",
        "\n",
        "\n",
        "\n",
        "1. Syntax Error - programmer need to correct it.\n",
        "\n",
        "Syntax errors occur when the code violates the rules of the programming language's syntax.\n",
        "\n",
        "2. Logical Error - programmer need to correct it.\n",
        "\n",
        "Logical errors occur when the code does not perform the intended operation due to a mistake in the logic or algorithm.\n",
        "\n",
        "3. Run Time Error - exception to handle it.\n",
        "\n",
        "Runtime errors occur while the program is running and can cause it to terminate abnormally."
      ],
      "metadata": {
        "id": "uJ5FzXSEMwqr"
      }
    },
    {
      "cell_type": "markdown",
      "source": [
        "# 1. Example of Syntax Error:"
      ],
      "metadata": {
        "id": "9kO1qWZxODSS"
      }
    },
    {
      "cell_type": "code",
      "source": [
        "# Syntax Error Example: Missing a colon at the end of the if statement\n",
        "if x == 5  # Missing colon here\n",
        "    print(\"x is equal to 5\")"
      ],
      "metadata": {
        "colab": {
          "base_uri": "https://localhost:8080/",
          "height": 144
        },
        "id": "wAesmaxWRrZU",
        "outputId": "4a88534d-c64b-4342-e4c5-4461f1e5a0b1"
      },
      "execution_count": 1,
      "outputs": [
        {
          "output_type": "error",
          "ename": "SyntaxError",
          "evalue": "expected ':' (<ipython-input-1-95a9a95c01df>, line 2)",
          "traceback": [
            "\u001b[0;36m  File \u001b[0;32m\"<ipython-input-1-95a9a95c01df>\"\u001b[0;36m, line \u001b[0;32m2\u001b[0m\n\u001b[0;31m    if x == 5  # Missing colon here\u001b[0m\n\u001b[0m               ^\u001b[0m\n\u001b[0;31mSyntaxError\u001b[0m\u001b[0;31m:\u001b[0m expected ':'\n"
          ]
        }
      ]
    },
    {
      "cell_type": "markdown",
      "source": [
        "Conclusion: In this example, the code is missing a colon (:) at the end of the if statement, which is required in Python. This will result in a syntax error when the code is executed."
      ],
      "metadata": {
        "id": "0ccLdkXLR2yy"
      }
    },
    {
      "cell_type": "markdown",
      "source": [
        "# 2. Example of Logical Error:\n",
        "\n",
        "The logical error here lies in the incorrect calculation."
      ],
      "metadata": {
        "id": "XHNLZXnwR5DJ"
      }
    },
    {
      "cell_type": "code",
      "source": [
        "# Logical Error Example: Incorrect logic for calculating the perimeter of a rectangle\n",
        "length = 5\n",
        "width = 3\n",
        "perimeter =  (length + width)  # Incorrect calculation: missing multiplication by 2\n",
        "print(\"Perimeter:\", perimeter)\n"
      ],
      "metadata": {
        "colab": {
          "base_uri": "https://localhost:8080/"
        },
        "id": "Uihy6cgiY2W4",
        "outputId": "fa1f5462-80a6-4d91-a3af-7934bed4bac4"
      },
      "execution_count": 7,
      "outputs": [
        {
          "output_type": "stream",
          "name": "stdout",
          "text": [
            "Perimeter: 8\n"
          ]
        }
      ]
    },
    {
      "cell_type": "markdown",
      "source": [
        "# Conclusion: In the above formula of perimeter, the formula should be:\n",
        "\n",
        "perimeter = 2 * (length + width)\n",
        "\n",
        "instead of\n",
        "\n",
        "perimeter =  (length + width)."
      ],
      "metadata": {
        "id": "nJAcH0SYY7tI"
      }
    },
    {
      "cell_type": "code",
      "source": [
        "principal = 1000000 # 1 Million\n",
        "rate_of_interest = 20\n",
        "duration = 10\n",
        "\n",
        "si = principal*rate_of_interest*duration\n",
        "print('simple interest: ', si)"
      ],
      "metadata": {
        "colab": {
          "base_uri": "https://localhost:8080/"
        },
        "id": "tIl_AsKcZRsV",
        "outputId": "2029a601-3d99-43b2-c51c-0cde4c5a8368"
      },
      "execution_count": 1,
      "outputs": [
        {
          "output_type": "stream",
          "name": "stdout",
          "text": [
            "simple interest:  200000000\n"
          ]
        }
      ]
    },
    {
      "cell_type": "markdown",
      "source": [
        "# Even though the calculation is mathematically correct.\n",
        "\n",
        "Logically speaking, the simple interest rate is higher  than the pricipal in 10 year time is illogical. Hence, the logical error."
      ],
      "metadata": {
        "id": "cucVZGHv7-Ji"
      }
    },
    {
      "cell_type": "markdown",
      "source": [
        "# 3. Run Time Error - exception to handle it."
      ],
      "metadata": {
        "id": "XL9vV69E8U5G"
      }
    },
    {
      "cell_type": "markdown",
      "source": [
        "# Exceptions in OOP:\n",
        "\n",
        "How are exceptions handled in Python classes?\n",
        "\n",
        "Explain the try, except, finally block in Python.\n",
        "\n",
        "How can you raise custom exceptions in Python classes?"
      ],
      "metadata": {
        "id": "TcL6a1Kg_--_"
      }
    },
    {
      "cell_type": "markdown",
      "source": [
        "#User-defined exception:\n",
        "An __exception__ is a type of error that occurs when a syntactically correct Python code raises an error. An arrow indicates the line where the exception occurred, while the last line of the error message specifies the exact type of exception and provides its description to facilitate debugging.\n",
        "\n",
        "__User-defined exceptions are exceptions that the developer writes in their code to address particular errors__.\n",
        "\n",
        "\n",
        "\n",
        "\n",
        "\n",
        "\n",
        "The most simple way of handling exceptions in Python is by using the `try` and `except` block.  \n",
        "\n",
        "Run the code under the `try` statement.\n",
        "When an exception is raised, execute the code under the `except` statement.\n",
        "Instead of stopping at error or exception, our code will move on to alternative solutions.\n",
        "\n",
        "While writing real-life programs for various applications, we must put constraints on the variables of use. For instance, in Date-of-birth, a month cannot be greater than 12 nor be negative, or the social media username must not contain a space character. To handle these sensitive values and to force them to be of a specific format, we use user-defined exceptions in Python. These user-defined exceptions can be derived from the superclass of Exception(Multiple Inheritance), used as a normal Python class, or implemented using Standard Exceptions such as Runtime Exception.\n",
        "\n",
        "__The basic syntax is as follows__:\n",
        "\n",
        "\n",
        "class CustomError(Exception):\n",
        "\n",
        "    ...\n",
        "    pass\n",
        "\n",
        "try:\n",
        "\n",
        "   ...\n",
        "\n",
        "except CustomError:\n",
        "    ..."
      ],
      "metadata": {
        "id": "HZnxT6nsb_Ze"
      }
    },
    {
      "cell_type": "markdown",
      "source": [
        "#Explain the use of the raise statement in Python.\n",
        "\n",
        "The raise keyword is used to raise an exception. You can define what kind of error to raise, and the text to print to the user.\n",
        "\n",
        "The raise keyword raises a specific exception when a condition is met or the code encounters an error. The exception raised by the program may either be an exception instance or an exception class. When you use the raise keyword, you can define what kind of error the machine should raise for a particular exception.\n",
        "\n",
        "The raise statement in Python is used to explicitly raise an exception or error in a program. It allows you to interrupt the normal flow of program execution and indicate that an error or exceptional condition has occurred. The basic syntax of the raise statement is as follows:\n",
        "\n",
        "#raise exception_type(\"Error message\")"
      ],
      "metadata": {
        "id": "8lfXzdcFM1Jr"
      }
    },
    {
      "cell_type": "code",
      "source": [
        "try:\n",
        "    # Some code that may raise an exception\n",
        "    x = 1 / 0\n",
        "except ZeroDivisionError as e:\n",
        "    print(\"Error:\", e)\n",
        "    raise ValueError(\"Custom error message\") from e"
      ],
      "metadata": {
        "colab": {
          "base_uri": "https://localhost:8080/",
          "height": 417
        },
        "id": "TPgRwkIANfL5",
        "outputId": "7d42fd8a-1d76-4985-e6ec-181746d362f8"
      },
      "execution_count": 23,
      "outputs": [
        {
          "output_type": "stream",
          "name": "stdout",
          "text": [
            "Error: division by zero\n"
          ]
        },
        {
          "output_type": "error",
          "ename": "ValueError",
          "evalue": "Custom error message",
          "traceback": [
            "\u001b[0;31m---------------------------------------------------------------------------\u001b[0m",
            "\u001b[0;31mZeroDivisionError\u001b[0m                         Traceback (most recent call last)",
            "\u001b[0;32m<ipython-input-23-855d7c72cd40>\u001b[0m in \u001b[0;36m<cell line: 1>\u001b[0;34m()\u001b[0m\n\u001b[1;32m      2\u001b[0m     \u001b[0;31m# Some code that may raise an exception\u001b[0m\u001b[0;34m\u001b[0m\u001b[0;34m\u001b[0m\u001b[0m\n\u001b[0;32m----> 3\u001b[0;31m     \u001b[0mx\u001b[0m \u001b[0;34m=\u001b[0m \u001b[0;36m1\u001b[0m \u001b[0;34m/\u001b[0m \u001b[0;36m0\u001b[0m\u001b[0;34m\u001b[0m\u001b[0;34m\u001b[0m\u001b[0m\n\u001b[0m\u001b[1;32m      4\u001b[0m \u001b[0;32mexcept\u001b[0m \u001b[0mZeroDivisionError\u001b[0m \u001b[0;32mas\u001b[0m \u001b[0me\u001b[0m\u001b[0;34m:\u001b[0m\u001b[0;34m\u001b[0m\u001b[0;34m\u001b[0m\u001b[0m\n",
            "\u001b[0;31mZeroDivisionError\u001b[0m: division by zero",
            "\nThe above exception was the direct cause of the following exception:\n",
            "\u001b[0;31mValueError\u001b[0m                                Traceback (most recent call last)",
            "\u001b[0;32m<ipython-input-23-855d7c72cd40>\u001b[0m in \u001b[0;36m<cell line: 1>\u001b[0;34m()\u001b[0m\n\u001b[1;32m      4\u001b[0m \u001b[0;32mexcept\u001b[0m \u001b[0mZeroDivisionError\u001b[0m \u001b[0;32mas\u001b[0m \u001b[0me\u001b[0m\u001b[0;34m:\u001b[0m\u001b[0;34m\u001b[0m\u001b[0;34m\u001b[0m\u001b[0m\n\u001b[1;32m      5\u001b[0m     \u001b[0mprint\u001b[0m\u001b[0;34m(\u001b[0m\u001b[0;34m\"Error:\"\u001b[0m\u001b[0;34m,\u001b[0m \u001b[0me\u001b[0m\u001b[0;34m)\u001b[0m\u001b[0;34m\u001b[0m\u001b[0;34m\u001b[0m\u001b[0m\n\u001b[0;32m----> 6\u001b[0;31m     \u001b[0;32mraise\u001b[0m \u001b[0mValueError\u001b[0m\u001b[0;34m(\u001b[0m\u001b[0;34m\"Custom error message\"\u001b[0m\u001b[0;34m)\u001b[0m \u001b[0;32mfrom\u001b[0m \u001b[0me\u001b[0m\u001b[0;34m\u001b[0m\u001b[0;34m\u001b[0m\u001b[0m\n\u001b[0m",
            "\u001b[0;31mValueError\u001b[0m: Custom error message"
          ]
        }
      ]
    },
    {
      "cell_type": "markdown",
      "source": [
        "# Examples of Run-Time error with exception handling:"
      ],
      "metadata": {
        "id": "6JBfNALeA-PI"
      }
    },
    {
      "cell_type": "code",
      "source": [
        "try:\n",
        "    # Attempting to divide by zero\n",
        "    result = 10 / 0\n",
        "    print(result)\n",
        "except ZeroDivisionError as e:\n",
        "    print(\"Error:\", e)"
      ],
      "metadata": {
        "colab": {
          "base_uri": "https://localhost:8080/"
        },
        "id": "UasuflfW8fjH",
        "outputId": "259abd8f-ad89-4e47-e2a6-c77c212b2db4"
      },
      "execution_count": 2,
      "outputs": [
        {
          "output_type": "stream",
          "name": "stdout",
          "text": [
            "Error: division by zero\n"
          ]
        }
      ]
    },
    {
      "cell_type": "markdown",
      "source": [],
      "metadata": {
        "id": "VIqLQ17vFCdP"
      }
    },
    {
      "cell_type": "markdown",
      "source": [
        "#**Python User Define Exceptions**"
      ],
      "metadata": {
        "id": "iTzGxap4HgCh"
      }
    },
    {
      "cell_type": "code",
      "source": [
        "class InvalidateElectionAgeGroup(Exception):\n",
        "    \"Raise when the input value is less that 18\"\n",
        "    pass\n",
        "\n",
        "age = 18\n",
        "\n",
        "try:\n",
        "    input_age = int(input('Enter valid age: '))\n",
        "    if input_age < age:\n",
        "        raise InvalidateElectionAgeGroup\n",
        "    else:\n",
        "        print('Eligible voting age')\n",
        "\n",
        "except InvalidateElectionAgeGroup:\n",
        "    print('Invalid age of voting - InvalidateElectionAgeGroup')\n",
        "\n",
        "except Exception:\n",
        "    print(\"Unknown Exception, Handled by Universal Exception: \")"
      ],
      "metadata": {
        "colab": {
          "base_uri": "https://localhost:8080/"
        },
        "id": "k1icPLkJHYpz",
        "outputId": "1e9b6be6-92c7-422e-f42f-89cdf6b02d75"
      },
      "execution_count": 4,
      "outputs": [
        {
          "output_type": "stream",
          "name": "stdout",
          "text": [
            "Enter valid age: 17\n",
            "Invalid age of voting - InvalidateElectionAgeGroup\n"
          ]
        }
      ]
    },
    {
      "cell_type": "code",
      "source": [
        "class MyException(Exception):\n",
        "   \"Invalid marks\"\n",
        "   pass\n",
        "\n",
        "num = -106\n",
        "try:\n",
        "   if num <0 or num>100:\n",
        "      raise MyException\n",
        "except MyException as e:\n",
        "   print (\"Invalid marks:\", num)\n",
        "else:\n",
        "   print (\"Marks obtained:\", num)"
      ],
      "metadata": {
        "colab": {
          "base_uri": "https://localhost:8080/"
        },
        "id": "PuT6eZrPL0gj",
        "outputId": "0c96f1a0-9742-4e49-c30f-c4b67b780390"
      },
      "execution_count": 21,
      "outputs": [
        {
          "output_type": "stream",
          "name": "stdout",
          "text": [
            "Invalid marks: -106\n"
          ]
        }
      ]
    },
    {
      "cell_type": "code",
      "source": [
        "# exception class\n",
        "class VotingPerson(Exception):\n",
        "#   Raised when the input age is less than 18\n",
        "    def __inti__(self, name, id, age):\n",
        "       self.name = name\n",
        "       self.id = id\n",
        "       self.age = age\n",
        "\n",
        "    # try taking details of the users,\n",
        "    # if the age is inappropriate, throw an exception\n",
        "\n",
        "try:\n",
        "    name = input(\"Enter name: \")\n",
        "    id = int(input(\"Enter id: \"))\n",
        "    age = int(input(\"Enter age: \"))\n",
        "    if age<18 :\n",
        "        raise VotingPerson\n",
        "    vote1 = VotingPerson(name,id,age)\n",
        "    print(\"Thanks for Voting!\")\n",
        "except Exception as e:\n",
        "    print(\"Sorry, you are not eligible for voting!\",e)"
      ],
      "metadata": {
        "colab": {
          "base_uri": "https://localhost:8080/"
        },
        "id": "wGz9mA3-UtXO",
        "outputId": "6dd300c5-e325-4900-999f-dda79db3d348"
      },
      "execution_count": 7,
      "outputs": [
        {
          "output_type": "stream",
          "name": "stdout",
          "text": [
            "Enter name: Jack\n",
            "Enter id: 1\n",
            "Enter age: 13\n",
            "Sorry, you are not eligible for voting! \n"
          ]
        }
      ]
    },
    {
      "cell_type": "code",
      "source": [
        "class MyException(Exception):\n",
        "   \"Insufficient Credits\"\n",
        "   pass\n",
        "try:\n",
        "    credit_score = int(input('Enter a valid credit score: '))\n",
        "    if credit_score <620:\n",
        "      raise MyException\n",
        "    else:\n",
        "        print(\"Good credit:\", credit_score)\n",
        "except MyException:\n",
        "    print(\"Decline the loan: \")\n",
        "except Exception:\n",
        "    print(\"Unknown Exception, Handled by Universal Exception: \")"
      ],
      "metadata": {
        "colab": {
          "base_uri": "https://localhost:8080/"
        },
        "id": "nmDjyxYOCBDY",
        "outputId": "64b6a340-49b9-46d1-8a44-718c412f4660"
      },
      "execution_count": 6,
      "outputs": [
        {
          "output_type": "stream",
          "name": "stdout",
          "text": [
            "Enter a valid credit score: 619\n",
            "Decline the loan: \n"
          ]
        }
      ]
    },
    {
      "cell_type": "code",
      "source": [
        "# Define a custom exception class\n",
        "class CustomError(Exception):\n",
        "    def __init__(self, message=\"A custom error occurred\"):\n",
        "        self.message = message\n",
        "        super().__init__(self.message)\n",
        "\n",
        "# Function that raises the custom exception\n",
        "def example_function(value):\n",
        "    if value < 0:\n",
        "        raise CustomError(\"Value should be a non-negative number.\")\n",
        "\n",
        "# Main program demonstrating the use of the custom exception\n",
        "try:\n",
        "    user_input = int(input(\"Enter a non-negative number: \"))\n",
        "    example_function(user_input)\n",
        "    print(\"No error occurred.\")\n",
        "except ValueError:\n",
        "    print(\"Please enter a valid number.\")\n",
        "except CustomError as ce:\n",
        "    print(f\"Custom Error: {ce}\")\n",
        "except Exception as e:\n",
        "    print(f\"An unexpected error occurred: {e}\")"
      ],
      "metadata": {
        "colab": {
          "base_uri": "https://localhost:8080/"
        },
        "id": "eqKsOs4BEIAL",
        "outputId": "f02a7858-0cd1-4daa-95c6-c534e0d7d902"
      },
      "execution_count": 10,
      "outputs": [
        {
          "output_type": "stream",
          "name": "stdout",
          "text": [
            "Enter a non-negative number: -6\n",
            "Custom Error: Value should be a non-negative number.\n"
          ]
        }
      ]
    },
    {
      "cell_type": "code",
      "source": [
        "class MyError(Exception):\n",
        "    # Constructor or Initializer\n",
        "    def __init__(self, value):\n",
        "        self.value = value\n",
        "    # __str__ is to print() the value\n",
        "    def __str__(self):\n",
        "        return(repr(self.value))\n",
        "\n",
        "try:\n",
        "    a = int(input('Enter a number \"a\": '))\n",
        "    b = int(input('Enter a number \"b\": '))\n",
        "    c = int(input('Enter a number \"c\": '))\n",
        "    raise(MyError((a*b)/c))\n",
        "\n",
        "# Value of Exception is stored in error\n",
        "except MyError as error:\n",
        "    print('A New Exception occurred: ', error.value)\n",
        "except ZeroDivisionError as zde:\n",
        "    print('A New Exception occurred: ', zde)\n",
        "except Exception as e:\n",
        "    print('A New Exception occurred: ', e)"
      ],
      "metadata": {
        "id": "goYjbiMwM7b1",
        "colab": {
          "base_uri": "https://localhost:8080/"
        },
        "outputId": "bc77d72e-1501-4e28-f517-024df91ab53a"
      },
      "execution_count": 17,
      "outputs": [
        {
          "output_type": "stream",
          "name": "stdout",
          "text": [
            "Enter a number \"a\": 6\n",
            "Enter a number \"b\": 5\n",
            "Enter a number \"c\": 4\n",
            "A New Exception occurred:  7.5\n"
          ]
        }
      ]
    },
    {
      "cell_type": "markdown",
      "source": [
        "# repr() function in Python:\n",
        "\n",
        "The repr() function in Python returns a printable representation of the given object. It returns a string containing a printable representation of an object, suitable for debugging or displaying information about the object.\n",
        "\n",
        "repr() is often used to obtain a string representation of an object that can be easily used for debugging purposes or to understand the internal structure of the object. It's different from str(), which is used to obtain a more user-friendly string representation of an object."
      ],
      "metadata": {
        "id": "T0I-HC8-HWP9"
      }
    },
    {
      "cell_type": "markdown",
      "source": [
        "# Example of repr()"
      ],
      "metadata": {
        "id": "xZhMtqLJHgv8"
      }
    },
    {
      "cell_type": "code",
      "source": [
        "x = 10\n",
        "print(repr(x))  # Output: '10'"
      ],
      "metadata": {
        "colab": {
          "base_uri": "https://localhost:8080/"
        },
        "id": "OUcxqjQlHmum",
        "outputId": "7337730c-ffe0-4b75-da00-75967fc74c0f"
      },
      "execution_count": 18,
      "outputs": [
        {
          "output_type": "stream",
          "name": "stdout",
          "text": [
            "10\n"
          ]
        }
      ]
    },
    {
      "cell_type": "code",
      "source": [
        "name = 'John'\n",
        "print(repr(name))  # Output: \"'John'\""
      ],
      "metadata": {
        "colab": {
          "base_uri": "https://localhost:8080/"
        },
        "id": "ot6f80WAH2ds",
        "outputId": "7f0fb495-71a8-45eb-9aa9-f069756b7901"
      },
      "execution_count": 19,
      "outputs": [
        {
          "output_type": "stream",
          "name": "stdout",
          "text": [
            "'John'\n"
          ]
        }
      ]
    },
    {
      "cell_type": "markdown",
      "source": [
        "# Explain the try, except, finally block in Python.\n",
        "\n",
        "\n",
        "In Python, the try, except, and finally blocks are used for exception handling. These blocks help you manage and respond to exceptions (errors) that may occur during the execution of your code. When combined with user-defined exceptions, we can create more robust and readable code.\n",
        "\n",
        "\n",
        "__A) try block__:\n",
        "\n",
        "This is the block where you write the code that might raise an exception.\n",
        "If an exception occurs within the try block, it is caught, and the corresponding except block is executed.\n",
        "\n",
        "__B) except block__:\n",
        "\n",
        "This block is executed if an exception occurs in the associated try block.\n",
        "\n",
        "__C) finally block__:\n",
        "\n",
        "This block is optional and is executed regardless of whether an exception occurred or not.\n",
        "It is commonly used to perform cleanup operations, such as closing files or releasing resources.\n",
        "The code in the finally block is executed no matter what happens in the preceding try and except blocks."
      ],
      "metadata": {
        "id": "KthrrkcDYhG2"
      }
    },
    {
      "cell_type": "code",
      "source": [
        "# Define a custom exception class\n",
        "class CustomError(Exception):\n",
        "    def __init__(self, message=\"A custom error occurred\"):\n",
        "        self.message = message\n",
        "        super().__init__(self.message)\n",
        "\n",
        "# Example using try, except, and finally with a user-defined exception\n",
        "try:\n",
        "    # Code that might raise an exception\n",
        "    user_input = int(input(\"Enter a positive number: \"))\n",
        "    if user_input <= 0:\n",
        "        raise CustomError(\"Input must be a positive number.\")\n",
        "    result = 10 / user_input\n",
        "    print(f\"Result: {result}\")\n",
        "except ValueError:\n",
        "    # Handle a non-numeric input\n",
        "    print(\"Please enter a valid number.\")\n",
        "except CustomError as ce:\n",
        "    # Handle the user-defined exception\n",
        "    print(f\"Custom Error: {ce}\")\n",
        "except Exception as e:\n",
        "    # Handle any unexpected exception\n",
        "    print(f\"An unexpected error occurred: {e}\")\n",
        "finally:\n",
        "    # Code in this block is always executed, whether an exception occurred or not\n",
        "    print(\"Finally, block executed.\")"
      ],
      "metadata": {
        "colab": {
          "base_uri": "https://localhost:8080/"
        },
        "id": "RLS0K2YLaA_o",
        "outputId": "3340d760-4ea0-4411-d68d-8ba2cbea517b"
      },
      "execution_count": 13,
      "outputs": [
        {
          "output_type": "stream",
          "name": "stdout",
          "text": [
            "Enter a positive number: -5\n",
            "Custom Error: Input must be a positive number.\n",
            "Finally, block executed.\n"
          ]
        }
      ]
    },
    {
      "cell_type": "markdown",
      "source": [
        "# Custom Exceptions and Universal Exception:"
      ],
      "metadata": {
        "id": "oCDrUD85PM18"
      }
    },
    {
      "cell_type": "code",
      "source": [
        "class invalidSignalColor(Exception):\n",
        "    \"Raised when the input value is not green\"\n",
        "    pass\n",
        "\n",
        "Signal = 'Green'\n",
        "\n",
        "try:\n",
        "    input_colour = input('Enter Signal Color: ')\n",
        "    if input_colour != Signal:\n",
        "        raise invalidSignalColor\n",
        "    else:\n",
        "        print('Ready to go: ')\n",
        "\n",
        "except invalidSignalColor:  #Custom Exception\n",
        "    print(\"Invalid Signal Color to go: \")\n",
        "\n",
        "except ValueError: #Custom Exception\n",
        "    print(\"ValueError occurred: Invalid input value\")\n",
        "\n",
        "except Exception as e: #Universal Exception\n",
        "    print(\"Unknown Exception, Handled by Universal Exception: \")"
      ],
      "metadata": {
        "id": "C0Rq3uEfL6XV",
        "colab": {
          "base_uri": "https://localhost:8080/"
        },
        "outputId": "168b0df8-6d0a-4715-a3e1-f180638d0698"
      },
      "execution_count": 27,
      "outputs": [
        {
          "output_type": "stream",
          "name": "stdout",
          "text": [
            "Enter Signal Color: R\n",
            "Invalid Signal Color to go: \n"
          ]
        }
      ]
    },
    {
      "cell_type": "markdown",
      "source": [
        "# Conclusion:\n",
        "The exceptions \"except ValueError\" and \"except invalidSignalColor\" are examples of custom error handling where specific types of exceptions are only caught and handled with custom error messages or actions.\n",
        "\n",
        "On the other hand, the \"except Exception as e\" block serves as a universal exception because it can catch any exception that is not explicitly handled by the preceding except blocks."
      ],
      "metadata": {
        "id": "D9Vyp0dtQImT"
      }
    }
  ]
}