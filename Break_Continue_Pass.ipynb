{
  "nbformat": 4,
  "nbformat_minor": 0,
  "metadata": {
    "colab": {
      "provenance": [],
      "authorship_tag": "ABX9TyPt4btPkx1SVcBcqiCT7j0E",
      "include_colab_link": true
    },
    "kernelspec": {
      "name": "python3",
      "display_name": "Python 3"
    },
    "language_info": {
      "name": "python"
    }
  },
  "cells": [
    {
      "cell_type": "markdown",
      "metadata": {
        "id": "view-in-github",
        "colab_type": "text"
      },
      "source": [
        "<a href=\"https://colab.research.google.com/github/Tiwari666/Data_Science_Python/blob/main/Break_Continue_Pass.ipynb\" target=\"_parent\"><img src=\"https://colab.research.google.com/assets/colab-badge.svg\" alt=\"Open In Colab\"/></a>"
      ]
    },
    {
      "cell_type": "markdown",
      "source": [
        "# Break:\n",
        "The break statement is used to exit the loop immediately/prematurely, regardless of whether the loop has finished all iterations or not."
      ],
      "metadata": {
        "id": "go8Jdp7Rze5M"
      }
    },
    {
      "cell_type": "code",
      "execution_count": 35,
      "metadata": {
        "colab": {
          "base_uri": "https://localhost:8080/"
        },
        "id": "YGzkoXbezTl_",
        "outputId": "cabde5bf-c86f-45b3-bf6a-f28163a7d002"
      },
      "outputs": [
        {
          "output_type": "stream",
          "name": "stdout",
          "text": [
            "1\n",
            "2\n",
            "3\n"
          ]
        }
      ],
      "source": [
        "for  i in range (1,6):\n",
        "    if i ==4:\n",
        "        break # Stops the loop when i is 4 , excluding 4 itself.\n",
        "    else:\n",
        "        print(i)"
      ]
    },
    {
      "cell_type": "markdown",
      "source": [
        "The else block is executed only when the if condition (i == 4) is not met, which means it executes for all values of i except when i is equal to 4.\n",
        "\n",
        "When i is equal to 4, the break statement is executed, which terminates the loop immediately, preventing any further iterations.\n",
        "\n",
        "Hence,  no more print out after breaking at i = 4 ."
      ],
      "metadata": {
        "id": "DiVqLNoHLzrP"
      }
    },
    {
      "cell_type": "markdown",
      "source": [
        "# **Alternative:**"
      ],
      "metadata": {
        "id": "DyDJYmjY0s2T"
      }
    },
    {
      "cell_type": "code",
      "source": [
        "for  i in range (1,6):\n",
        "    if i ==4:\n",
        "        break # Stops the loop when i is 4\n",
        "    print(i)\n",
        "\n",
        "# The above code and this code are equivalent because nore itertation  occurs  after the break  statement.\n",
        "# Regardless of the value of i, the print(i) statement is executed because it is outside the if block.S"
      ],
      "metadata": {
        "colab": {
          "base_uri": "https://localhost:8080/"
        },
        "id": "vVSbLiJH0XZ7",
        "outputId": "55fcd486-b151-441d-a24e-81207544afed"
      },
      "execution_count": 36,
      "outputs": [
        {
          "output_type": "stream",
          "name": "stdout",
          "text": [
            "1\n",
            "2\n",
            "3\n"
          ]
        }
      ]
    },
    {
      "cell_type": "markdown",
      "source": [
        "# **Continue:**\n",
        "\n",
        "The continue statement is used to skip the rest of the code inside a loop for the current iteration and proceed to the next iteration."
      ],
      "metadata": {
        "id": "0kaYkh3H0yd8"
      }
    },
    {
      "cell_type": "code",
      "source": [
        "for i in  range(1,6):\n",
        "    if i ==3:\n",
        "        continue    # Skips printing 3, but prints all beforeand after  3\n",
        "    print(i)"
      ],
      "metadata": {
        "colab": {
          "base_uri": "https://localhost:8080/"
        },
        "id": "yMdeyMXq01Xg",
        "outputId": "3a4b29e3-fc2b-4791-d0df-1121be8d61ee"
      },
      "execution_count": 38,
      "outputs": [
        {
          "output_type": "stream",
          "name": "stdout",
          "text": [
            "1\n",
            "2\n",
            "4\n",
            "5\n"
          ]
        }
      ]
    },
    {
      "cell_type": "markdown",
      "source": [
        "# Pass:\n",
        "\n",
        "The pass statement is a null operation; nothing happens when it executes.\n",
        "\n",
        "It is used when a statement is syntactically required but a user does not want any command or code to execute.\n",
        "\n",
        "\n",
        "# Compare the following two examples to get the difference between the two code snippets lying in the indentation and the presence of the print(i) statement inside or outside the else block."
      ],
      "metadata": {
        "id": "K7TKPNsX2DBD"
      }
    },
    {
      "cell_type": "code",
      "source": [
        "for i in  range(1,6):\n",
        "    if i ==3:\n",
        "        pass\n",
        "    print(i)\n",
        "\n",
        "#Here, the print() statement is outside the if block.\n",
        "# Regardless of the value of i, the print(i) statement is executed because it is outside the if block."
      ],
      "metadata": {
        "colab": {
          "base_uri": "https://localhost:8080/"
        },
        "id": "aiHr6s3f2iZm",
        "outputId": "0b1a1457-91ea-42be-fbd8-bd592b6765fd"
      },
      "execution_count": 11,
      "outputs": [
        {
          "output_type": "stream",
          "name": "stdout",
          "text": [
            "1\n",
            "2\n",
            "3\n",
            "4\n",
            "5\n"
          ]
        }
      ]
    },
    {
      "cell_type": "code",
      "source": [
        "for i in  range(1,6):\n",
        "    if i ==3:\n",
        "        pass\n",
        "    else:\n",
        "        print(i)\n",
        "\n",
        "#Here, the print() statement is inside  the if block.\n",
        "\n",
        "# When i is equal to 3, the pass statement is executed, and the control goes to the next iteration of the loop without printing anything  inside the if block.\n",
        "\n",
        "#For other values of i, the else block executes, printing the value of i."
      ],
      "metadata": {
        "colab": {
          "base_uri": "https://localhost:8080/"
        },
        "id": "soNlOwYY25qN",
        "outputId": "cc1a781b-c253-4d7c-dac1-4c7cc9662838"
      },
      "execution_count": 13,
      "outputs": [
        {
          "output_type": "stream",
          "name": "stdout",
          "text": [
            "1\n",
            "2\n",
            "4\n",
            "5\n"
          ]
        }
      ]
    },
    {
      "cell_type": "markdown",
      "source": [
        "When i is equal to 3, the pass statement is executed. The pass statement essentially means \"do nothing\".\n",
        "\n",
        "So, when i is equal to 3, the loop encounters the pass statement and simply continues to the next iteration without executing any code inside the if block."
      ],
      "metadata": {
        "id": "Yv3lKLqz3VtC"
      }
    },
    {
      "cell_type": "markdown",
      "source": [
        "# Example demonstrateing the use of break, continue, and pass statements together in Python:"
      ],
      "metadata": {
        "id": "r-8V1ETo7F2b"
      }
    },
    {
      "cell_type": "code",
      "source": [
        "for i in range(1,6):\n",
        "    if i == 2:\n",
        "        continue # Skips printing 2 and and moves to the next iteration\n",
        "    elif i == 4:\n",
        "        break     # Terminates the loop when i == 4\n",
        "    elif i ==3:\n",
        "        pass  # Does nothing when i == 3 and prints the numeber 3 as the print statement is outside the elif block.\n",
        "    print(i)"
      ],
      "metadata": {
        "colab": {
          "base_uri": "https://localhost:8080/"
        },
        "id": "LOxgoqew3X1X",
        "outputId": "6e3428e8-c78d-4815-931d-baae06790978"
      },
      "execution_count": 30,
      "outputs": [
        {
          "output_type": "stream",
          "name": "stdout",
          "text": [
            "1\n",
            "3\n"
          ]
        }
      ]
    },
    {
      "cell_type": "markdown",
      "source": [
        "When i is 1:\n",
        "\n",
        "The conditions are not met (i is neither 2 nor 4 nor 3). So, print(i) is executed, printing 1.\n",
        "\n",
        "When i is 2:\n",
        "\n",
        "The condition i == 2 is met, Skips printing 2 and and moves to the next iteration.\n",
        "\n",
        "When i is 3:\n",
        "\n",
        "The condition i == 3 is met, so pass is executed, doing nothing for this iteration  and prints the number 3 as the print statement is outside the elif block.\n",
        "\n",
        "\n",
        "When i is 4:\n",
        "\n",
        "The condition i == 4 is met, so break is executed, terminating the loop immediately without further iterations."
      ],
      "metadata": {
        "id": "KTsW_qOAGVjA"
      }
    }
  ]
}