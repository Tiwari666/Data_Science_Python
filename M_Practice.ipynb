{
  "nbformat": 4,
  "nbformat_minor": 0,
  "metadata": {
    "colab": {
      "provenance": [],
      "authorship_tag": "ABX9TyOeGf/l3jJ6l5HAB+yF7mtq",
      "include_colab_link": true
    },
    "kernelspec": {
      "name": "python3",
      "display_name": "Python 3"
    },
    "language_info": {
      "name": "python"
    }
  },
  "cells": [
    {
      "cell_type": "markdown",
      "metadata": {
        "id": "view-in-github",
        "colab_type": "text"
      },
      "source": [
        "<a href=\"https://colab.research.google.com/github/Tiwari666/Data_Science_Python/blob/main/M_Practice.ipynb\" target=\"_parent\"><img src=\"https://colab.research.google.com/assets/colab-badge.svg\" alt=\"Open In Colab\"/></a>"
      ]
    },
    {
      "cell_type": "code",
      "execution_count": null,
      "metadata": {
        "colab": {
          "base_uri": "https://localhost:8080/"
        },
        "id": "7kLiy_iIwT_N",
        "outputId": "1efe8bbc-04b1-4c34-932e-215e0b75ffb2"
      },
      "outputs": [
        {
          "output_type": "execute_result",
          "data": {
            "text/plain": [
              "True"
            ]
          },
          "metadata": {},
          "execution_count": 2
        }
      ],
      "source": [
        "X = 5\n",
        "Y = 5\n",
        "X is Y"
      ]
    },
    {
      "cell_type": "code",
      "source": [
        "X = 5\n",
        "Y = 5\n",
        "X == Y"
      ],
      "metadata": {
        "colab": {
          "base_uri": "https://localhost:8080/"
        },
        "id": "2gzCcgIt3ohn",
        "outputId": "190794b7-c7b8-49e9-ced8-29f3537b2c8d"
      },
      "execution_count": null,
      "outputs": [
        {
          "output_type": "execute_result",
          "data": {
            "text/plain": [
              "True"
            ]
          },
          "metadata": {},
          "execution_count": 19
        }
      ]
    },
    {
      "cell_type": "code",
      "source": [
        "l = [5,1,1,2,3,4]\n",
        "len(l)\n",
        "l"
      ],
      "metadata": {
        "colab": {
          "base_uri": "https://localhost:8080/"
        },
        "id": "8TKsijsNxUMy",
        "outputId": "0fd6c788-6b1d-4493-f16e-82c143837eef"
      },
      "execution_count": null,
      "outputs": [
        {
          "output_type": "execute_result",
          "data": {
            "text/plain": [
              "[5, 1, 1, 2, 3, 4]"
            ]
          },
          "metadata": {},
          "execution_count": 8
        }
      ]
    },
    {
      "cell_type": "code",
      "source": [
        "l = [5, 1, 1, 2, 3, 4]\n",
        "unique_numbers = []\n",
        "\n",
        "# Iterate through each element in the list\n",
        "for num in l:\n",
        "    # Check if the current number is not already in the unique_numbers list\n",
        "    if num not in unique_numbers:\n",
        "        # If not, add it to the unique_numbers list\n",
        "        unique_numbers.append(num)\n",
        "\n",
        "# Print the unique numbers\n",
        "print(\"Unique numbers in the list:\", unique_numbers)"
      ],
      "metadata": {
        "colab": {
          "base_uri": "https://localhost:8080/"
        },
        "id": "HrrHeGOBzWin",
        "outputId": "ee8a705a-1489-451f-bb12-7f570f3cf7e1"
      },
      "execution_count": null,
      "outputs": [
        {
          "output_type": "stream",
          "name": "stdout",
          "text": [
            "Unique numbers in the list: [5, 1, 2, 3, 4]\n"
          ]
        }
      ]
    },
    {
      "cell_type": "code",
      "source": [
        "l = [5, 1, 1, 2, 3, 4]\n",
        "unique = []\n",
        "\n",
        "for i in l:\n",
        "    if i not in unique:\n",
        "        unique.append(i)\n",
        "print(unique)\n"
      ],
      "metadata": {
        "colab": {
          "base_uri": "https://localhost:8080/"
        },
        "id": "9nlB8yOc3voY",
        "outputId": "29a31af8-e86a-46ce-8697-b263daeaec06"
      },
      "execution_count": null,
      "outputs": [
        {
          "output_type": "stream",
          "name": "stdout",
          "text": [
            "[5, 1, 2, 3, 4]\n"
          ]
        }
      ]
    },
    {
      "cell_type": "code",
      "source": [
        "s = list(set(l))\n",
        "s"
      ],
      "metadata": {
        "colab": {
          "base_uri": "https://localhost:8080/"
        },
        "id": "OAfP3M5Gyb9O",
        "outputId": "b9d5e0fb-96fc-4567-f55e-a4fcdee0f945"
      },
      "execution_count": null,
      "outputs": [
        {
          "output_type": "execute_result",
          "data": {
            "text/plain": [
              "[1, 2, 3, 4, 5]"
            ]
          },
          "metadata": {},
          "execution_count": 7
        }
      ]
    },
    {
      "cell_type": "markdown",
      "source": [
        "# **When to use is and == in python?**\n",
        "\n",
        "# **is operator:**\n",
        "\n",
        "The is operator checks whether two variables refer to the same object in memory.\n",
        "\n",
        "It returns True if the objects are the same, i.e., they have the same memory address."
      ],
      "metadata": {
        "id": "YADxvikdyrgO"
      }
    },
    {
      "cell_type": "code",
      "source": [
        "a = [1, 2, 3]\n",
        "b = a\n",
        "print(a is b)  # Output: True"
      ],
      "metadata": {
        "colab": {
          "base_uri": "https://localhost:8080/"
        },
        "id": "tj8L60JCKBF-",
        "outputId": "563ebdda-4de1-4fa0-f343-3fce8b66e603"
      },
      "execution_count": null,
      "outputs": [
        {
          "output_type": "stream",
          "name": "stdout",
          "text": [
            "True\n"
          ]
        }
      ]
    },
    {
      "cell_type": "markdown",
      "source": [
        "In this example, both a and b refer to the same list object [1, 2, 3], so a is b evaluates to True."
      ],
      "metadata": {
        "id": "Yqad27qxKbVW"
      }
    },
    {
      "cell_type": "markdown",
      "source": [
        "# **== operator:**\n",
        "\n",
        "The == operator checks whether the values of two variables are equal. It compares the contents of objects rather than their identities."
      ],
      "metadata": {
        "id": "A0ZlkagNK2il"
      }
    },
    {
      "cell_type": "code",
      "source": [
        "a = [1, 2, 3]\n",
        "b = [1, 2, 3]\n",
        "print(a == b)  # Output: True"
      ],
      "metadata": {
        "colab": {
          "base_uri": "https://localhost:8080/"
        },
        "id": "32jD5CVdLA9V",
        "outputId": "e52716e6-6dd6-4e9a-894f-88b734d5f5ac"
      },
      "execution_count": null,
      "outputs": [
        {
          "output_type": "stream",
          "name": "stdout",
          "text": [
            "True\n"
          ]
        }
      ]
    },
    {
      "cell_type": "markdown",
      "source": [
        "In this example, a and b have the same values [1, 2, 3], so a == b evaluates to True, even though they are distinct objects with different memory addresses."
      ],
      "metadata": {
        "id": "oKP864vPLQR_"
      }
    },
    {
      "cell_type": "markdown",
      "source": [
        "# **When to use is and ==:**\n",
        "\n",
        "Use the is operator when you want to check whether two variables refer to the same object in memory. This is typically used to test identity, such as checking if a variable is None or comparing objects for identity, like checking if two variables refer to the same list.\n",
        "\n",
        "Use the == operator when you want to check whether two variables have the same value. This is used to compare the contents of objects, such as comparing numbers, strings, lists, dictionaries, etc., for equality.\n",
        "\n",
        "It's essential to use the appropriate operator depending on the context of your comparison. Using is when you mean == or vice versa can lead to unexpected behavior, especially when working with mutable objects like lists, dictionaries, or objects created dynamically."
      ],
      "metadata": {
        "id": "EQoCsRTQLSLt"
      }
    },
    {
      "cell_type": "markdown",
      "source": [
        "# **Dynamic input:**\n",
        "Dynamic input in Python refers to accepting user input during runtime, allowing users to provide data interactively while the program is running. This can be achieved using the built-in input() function in Python."
      ],
      "metadata": {
        "id": "kRU76NN-LwHd"
      }
    },
    {
      "cell_type": "code",
      "source": [
        "def user_info():\n",
        "    # Prompt the user to enter their details\n",
        "    name = input(\"Enter your name: \")\n",
        "    age = input(\"Enter your age: \")\n",
        "\n",
        " # Print the user's details\n",
        "    print(\"\\n User's details\")\n",
        "    print(\"Name :\", name)\n",
        "    print(\"Age: \", age)\n",
        "\n",
        "# Call the function to get user details\n",
        "\n",
        "user_info()"
      ],
      "metadata": {
        "colab": {
          "base_uri": "https://localhost:8080/"
        },
        "id": "qoJ8fvZTMbG-",
        "outputId": "4aac4db9-b7cd-40cf-8502-3924b4d4ac4e"
      },
      "execution_count": null,
      "outputs": [
        {
          "output_type": "stream",
          "name": "stdout",
          "text": [
            "Enter your name: Narendra\n",
            "Enter your age: 26\n",
            "\n",
            " User's details\n",
            "Name : Narendra\n",
            "Age:  26\n"
          ]
        }
      ]
    },
    {
      "cell_type": "markdown",
      "source": [
        "# **JAX**\n",
        "JAX provides a powerful way to define and compile functions for use in numerical computing tasks, especially when working with arrays and matrices. The jax.jit() function is just one of the many utilities provided by JAX to optimize and accelerate computation in Python."
      ],
      "metadata": {
        "id": "OuU1ROmiQfiJ"
      }
    },
    {
      "cell_type": "code",
      "source": [
        "import jax\n",
        "import jax.numpy as jnp\n",
        "\n",
        "def square(x):\n",
        "    return x**2\n",
        "\n",
        "# Use jax.jit to compile the function for better performance\n",
        "square_jitted = jax.jit(square)\n",
        "\n",
        "# Example usage\n",
        "input_value = 3\n",
        "result = square_jitted(input_value)\n",
        "print(\"Square of\", input_value, \"is\", result, \".\")"
      ],
      "metadata": {
        "colab": {
          "base_uri": "https://localhost:8080/"
        },
        "id": "4BhQSXWaQlqi",
        "outputId": "bb8c7ccc-24f7-4d2e-f8c6-b466bc7f25ed"
      },
      "execution_count": null,
      "outputs": [
        {
          "output_type": "stream",
          "name": "stdout",
          "text": [
            "Square of 3 is 9 .\n"
          ]
        }
      ]
    },
    {
      "cell_type": "code",
      "source": [
        "def square(n):\n",
        "    return n**2\n",
        "\n",
        "# Usecase\n",
        "number = 5\n",
        "result = square(number)\n",
        "print(\"The square of\",number, \"is\", result, \".\")"
      ],
      "metadata": {
        "colab": {
          "base_uri": "https://localhost:8080/"
        },
        "id": "lnLpuhavaA1y",
        "outputId": "a3721651-5fc4-49d4-bc44-da6abbe2abee"
      },
      "execution_count": null,
      "outputs": [
        {
          "output_type": "stream",
          "name": "stdout",
          "text": [
            "The square of 5 is 25 .\n"
          ]
        }
      ]
    }
  ]
}