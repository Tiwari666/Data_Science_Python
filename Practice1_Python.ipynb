{
  "nbformat": 4,
  "nbformat_minor": 0,
  "metadata": {
    "colab": {
      "provenance": [],
      "authorship_tag": "ABX9TyNLrG1q8bgTgAEWJ8w0dCGL",
      "include_colab_link": true
    },
    "kernelspec": {
      "name": "python3",
      "display_name": "Python 3"
    },
    "language_info": {
      "name": "python"
    }
  },
  "cells": [
    {
      "cell_type": "markdown",
      "metadata": {
        "id": "view-in-github",
        "colab_type": "text"
      },
      "source": [
        "<a href=\"https://colab.research.google.com/github/Tiwari666/Data_Science_Python/blob/main/Practice1_Python.ipynb\" target=\"_parent\"><img src=\"https://colab.research.google.com/assets/colab-badge.svg\" alt=\"Open In Colab\"/></a>"
      ]
    },
    {
      "cell_type": "markdown",
      "source": [
        "# Problem 1:  \"__init__\" method:\n",
        "\n",
        "In Python, the __init__ method is a special method used for initializing newly created objects. It is called automatically when a new instance of a class is created. The purpose of __init__ is to initialize the attributes of the object to some initial values.\n"
      ],
      "metadata": {
        "id": "PwKaFBql6sgQ"
      }
    },
    {
      "cell_type": "code",
      "source": [
        "class person:\n",
        "    def __init__(self, name, age):\n",
        "        self.name = name\n",
        "        self.age = age\n",
        "    def print_info(self):\n",
        "        print(f\"Name: {self.name}, Age : {self.age}\")\n",
        "\n",
        "# Creating the instance of the person:\n",
        "person1 = person(\"Alice\", 32)\n",
        "\n",
        "# Accessing attributes and calling the method\n",
        "person1.print_info()\n"
      ],
      "metadata": {
        "colab": {
          "base_uri": "https://localhost:8080/"
        },
        "id": "WHHpHDMm8kE-",
        "outputId": "0449968b-b99a-4886-b50a-3c1990c9384f"
      },
      "execution_count": null,
      "outputs": [
        {
          "output_type": "stream",
          "name": "stdout",
          "text": [
            "Name: Alice, Age : 32\n"
          ]
        }
      ]
    },
    {
      "cell_type": "markdown",
      "source": [
        "#Problem 2: Write a Python Program using Function and *args; it can perform all task of arithmetic operators in python (addition, subtraction, division, multiplication, floor division, modulus, exponential)#"
      ],
      "metadata": {
        "id": "aFMKC3-2xee_"
      }
    },
    {
      "cell_type": "markdown",
      "source": [
        "a + x \t# Addition\n",
        "\n",
        "a - x \t# Subtraction\n",
        "\n",
        "a * x \t# Multiplication\n",
        "\n",
        "a / x \t# Division\n",
        "\n",
        "a % x \t# Modulo: The remainder of a / x\n",
        "\n",
        "a ** x \t# Exponent: a to the power of x or a ^ x\n",
        "\n",
        "a // x \t# Floor division: Rounds down result of a / x"
      ],
      "metadata": {
        "id": "RGnfz1eKywPa"
      }
    },
    {
      "cell_type": "code",
      "source": [
        "def arithmetic_operations(operator, *args):\n",
        "    result = None\n",
        "\n",
        "    if operator == '+':\n",
        "        result = sum(args)\n",
        "    elif operator == '-':\n",
        "        result = args[0] - sum(args[1:])\n",
        "    elif operator == '*':\n",
        "        result = 1\n",
        "        for num in args:\n",
        "            result *= num\n",
        "    elif operator == '/':\n",
        "        result = args[0]\n",
        "        for num in args[1:]:\n",
        "            result /= num\n",
        "    elif operator == '//':\n",
        "        result = args[0]\n",
        "        for num in args[1:]:\n",
        "            result //= num\n",
        "    elif operator == '%':\n",
        "        result = args[0] % args[1]\n",
        "    elif operator == '**':\n",
        "        result = args[0] ** args[1]\n",
        "    else:\n",
        "        print(\"Invalid operator\")\n",
        "        return None\n",
        "\n",
        "    return result\n"
      ],
      "metadata": {
        "id": "UA01jsTS0Msz"
      },
      "execution_count": null,
      "outputs": []
    },
    {
      "cell_type": "code",
      "source": [
        "# Example usage:\n",
        "add_result = arithmetic_operations('+', 1, 2, 3, 4)\n",
        "print(\"Addition result:\", add_result)\n",
        "\n",
        "sub_result = arithmetic_operations('-', 10, 2, 3)\n",
        "print(\"Subtraction result:\", sub_result)\n",
        "\n",
        "mul_result = arithmetic_operations('*', 2, 3, 4)\n",
        "print(\"Multiplication result:\", mul_result)\n",
        "\n",
        "div_result = arithmetic_operations('/', 10, 2)\n",
        "print(\"Division result:\", div_result)\n",
        "\n",
        "floor_div_result = arithmetic_operations('//', 10, 3)\n",
        "print(\"Floor Division result:\", floor_div_result)\n",
        "\n",
        "mod_result = arithmetic_operations('%', 10, 3)\n",
        "print(\"Modulus result:\", mod_result)\n",
        "\n",
        "exp_result = arithmetic_operations('**', 2, 3)\n",
        "print(\"Exponential result:\", exp_result)"
      ],
      "metadata": {
        "colab": {
          "base_uri": "https://localhost:8080/"
        },
        "id": "t29YU8fFV0EQ",
        "outputId": "52f013bd-a4c7-4f6b-eae1-0c6f7203d980"
      },
      "execution_count": null,
      "outputs": [
        {
          "output_type": "stream",
          "name": "stdout",
          "text": [
            "Addition result: 10\n",
            "Subtraction result: 5\n",
            "Multiplication result: 24\n",
            "Division result: 5.0\n",
            "Floor Division result: 3\n",
            "Modulus result: 1\n",
            "Exponential result: 8\n"
          ]
        }
      ]
    },
    {
      "cell_type": "markdown",
      "source": [
        "#Problem 3: Write a Python Program using Function and **kwargs.\n",
        "\n"
      ],
      "metadata": {
        "id": "6sejTX1Y1SX6"
      }
    },
    {
      "cell_type": "code",
      "source": [
        "def arith_operator(**kwargs):\n",
        "    result = None\n",
        "\n",
        "    if 'add' in kwargs:\n",
        "        result = sum(kwargs['add'])\n",
        "    elif 'subtract' in kwargs:\n",
        "        result = kwargs['subtract'][0] - sum(kwargs['subtract'][1:])\n",
        "    elif 'multiply' in kwargs:\n",
        "        result = 1\n",
        "        for num in kwargs['multiply']:\n",
        "            result *= num\n",
        "    elif 'divide' in kwargs:\n",
        "        if 0 in kwargs['divide'][1:]:\n",
        "            print(\"Error: Division by zero is not allowed.\")\n",
        "            return None\n",
        "        result = kwargs['divide'][0]\n",
        "        for num in kwargs['divide'][1:]:\n",
        "            result /= num\n",
        "    else:\n",
        "        print(\"Invalid operation\")\n",
        "        return None\n",
        "\n",
        "    return result\n"
      ],
      "metadata": {
        "id": "M3fEZoSHAp79"
      },
      "execution_count": null,
      "outputs": []
    },
    {
      "cell_type": "code",
      "source": [
        "add_result = arith_operator(add=[1, 2, 3, 4])\n",
        "print(\"Addition result:\", add_result)\n",
        "\n",
        "sub_result = arith_operator(subtract=[10, 2, 3])\n",
        "print(\"Subtraction result:\", sub_result)\n",
        "\n",
        "mul_result = arith_operator(multiply=[2, 3, 4])\n",
        "print(\"Multiplication result:\", mul_result)\n",
        "\n",
        "div_result = arith_operator(divide=[10, 2])\n",
        "print(\"Division result:\", div_result)"
      ],
      "metadata": {
        "colab": {
          "base_uri": "https://localhost:8080/"
        },
        "id": "H2vTJlWVC7_j",
        "outputId": "2811bcb0-3395-4c3a-83a7-b213c71e15fc"
      },
      "execution_count": null,
      "outputs": [
        {
          "output_type": "stream",
          "name": "stdout",
          "text": [
            "Addition result: 10\n",
            "Subtraction result: 5\n",
            "Multiplication result: 24\n",
            "Division result: 5.0\n"
          ]
        }
      ]
    },
    {
      "cell_type": "markdown",
      "source": [
        "#Problem 4: Write Python Program using Built-in Functions (Multiple Programs using Built-in Functions)"
      ],
      "metadata": {
        "id": "5aZJY9SNDHHE"
      }
    },
    {
      "cell_type": "code",
      "source": [
        "num_str = \"123\"\n",
        "num_int = int(num_str)\n",
        "print(num_int)\n",
        "num_float = float(num_str)\n",
        "print(num_float)\n",
        "str_num = str(num_int)\n",
        "print(str_num)\n",
        "type(str_num)"
      ],
      "metadata": {
        "colab": {
          "base_uri": "https://localhost:8080/"
        },
        "id": "-gvqR71AV7Fy",
        "outputId": "c99d1f6c-5467-440d-a84f-f5fb15d6df66"
      },
      "execution_count": null,
      "outputs": [
        {
          "output_type": "stream",
          "name": "stdout",
          "text": [
            "123\n",
            "123.0\n",
            "123\n"
          ]
        },
        {
          "output_type": "execute_result",
          "data": {
            "text/plain": [
              "str"
            ]
          },
          "metadata": {},
          "execution_count": 64
        }
      ]
    },
    {
      "cell_type": "code",
      "source": [
        "name = input(\"Enter your name: \")\n",
        "print(\"Hello,\", name)"
      ],
      "metadata": {
        "colab": {
          "base_uri": "https://localhost:8080/"
        },
        "id": "_VVCviasWAGA",
        "outputId": "c834f5e7-95e3-4198-8479-af94e9de0812"
      },
      "execution_count": null,
      "outputs": [
        {
          "output_type": "stream",
          "name": "stdout",
          "text": [
            "Enter your name: Kyale\n",
            "Hello, Kyale\n"
          ]
        }
      ]
    },
    {
      "cell_type": "code",
      "source": [
        "for i in range(5):\n",
        "    print(i)"
      ],
      "metadata": {
        "colab": {
          "base_uri": "https://localhost:8080/"
        },
        "id": "fFplb6FqXSpo",
        "outputId": "b1601beb-55e9-4ecb-f6a4-5eb336320fb7"
      },
      "execution_count": null,
      "outputs": [
        {
          "output_type": "stream",
          "name": "stdout",
          "text": [
            "0\n",
            "1\n",
            "2\n",
            "3\n",
            "4\n"
          ]
        }
      ]
    },
    {
      "cell_type": "code",
      "source": [
        "pi = 3.14159\n",
        "rounded_pi = round(pi, 2)\n",
        "print(\"Rounded pi:\", rounded_pi)"
      ],
      "metadata": {
        "colab": {
          "base_uri": "https://localhost:8080/"
        },
        "id": "3ANpXU3hXdew",
        "outputId": "54ae66f8-920a-47f2-dbec-5f67f3ea1f67"
      },
      "execution_count": null,
      "outputs": [
        {
          "output_type": "stream",
          "name": "stdout",
          "text": [
            "Rounded pi: 3.14\n"
          ]
        }
      ]
    },
    {
      "cell_type": "markdown",
      "source": [
        "# Problem 5: Username and Password:"
      ],
      "metadata": {
        "id": "VocLb_sUVS_5"
      }
    },
    {
      "cell_type": "code",
      "source": [
        "def login_system():\n",
        "    # Set the correct username and password\n",
        "    correct_username = \"user123\"\n",
        "    correct_password = \"pass123\"\n",
        "\n",
        "    # Get user input for username and password\n",
        "    entered_username = input(\"Enter your username: \")\n",
        "    entered_password = input(\"Enter your password: \")\n",
        "\n",
        "    # Check the entered username and password\n",
        "    if entered_username == correct_username:\n",
        "        if entered_password == correct_password:\n",
        "            print(\"Login successful! Welcome,\", entered_username)\n",
        "        else:\n",
        "            print(\"Incorrect password. Please try again.\")\n",
        "    elif entered_username != correct_username:\n",
        "        print(\"Username not found. Please register or check your username.\")\n",
        "    else:\n",
        "        print(\"Invalid input. Please try again.\")\n",
        "\n",
        "# Call the login system function\n",
        "login_system()\n"
      ],
      "metadata": {
        "colab": {
          "base_uri": "https://localhost:8080/"
        },
        "id": "V1AAbkcccanP",
        "outputId": "8fdcf374-d4fd-4d4b-b682-517f754193ae"
      },
      "execution_count": null,
      "outputs": [
        {
          "output_type": "stream",
          "name": "stdout",
          "text": [
            "Enter your username: user123\n",
            "Enter your password: pass123\n",
            "Login successful! Welcome, user123\n"
          ]
        }
      ]
    },
    {
      "cell_type": "markdown",
      "source": [
        "#Program 6: Print the first 10 natural numbers, 10 odd numbers, 10 even numbers, 10 prime number using for loop.\n"
      ],
      "metadata": {
        "id": "Y3YEzx-jrrU6"
      }
    },
    {
      "cell_type": "code",
      "source": [
        "def is_prime(num):\n",
        "    if num ==1:\n",
        "        return False # 1 is neither a prime nor a composite number....\n",
        "    for i in range(2, int(num**0.5) + 1): # range goes from 2 to the square root of a number\n",
        "        if num % i == 0: #If the given number is divisible by any of the numbers from 2 to the square root of the number, the function will return False\n",
        "            return False\n",
        "    return True\n",
        "\n",
        "\n",
        "#Test Function\n",
        "for num in range(1,10):\n",
        "    print(num, is_prime(num))"
      ],
      "metadata": {
        "colab": {
          "base_uri": "https://localhost:8080/"
        },
        "id": "Kn3QAb7DrtdL",
        "outputId": "31b8c6e4-0a6e-4fd9-ce5a-e7e999341169"
      },
      "execution_count": null,
      "outputs": [
        {
          "output_type": "stream",
          "name": "stdout",
          "text": [
            "1 False\n",
            "2 True\n",
            "3 True\n",
            "4 False\n",
            "5 True\n",
            "6 False\n",
            "7 True\n",
            "8 False\n",
            "9 False\n"
          ]
        }
      ]
    },
    {
      "cell_type": "markdown",
      "source": [
        "# Problem 7: Even or Odd or Prime"
      ],
      "metadata": {
        "id": "TbYWtiuQVDGB"
      }
    },
    {
      "cell_type": "code",
      "source": [
        "def print_sequence(sequence_name, start, end, step=1):\n",
        "    print(f\"{sequence_name}:\")\n",
        "    for i in range(start, end + 1, step):\n",
        "        print(i, end=\" \")\n",
        "    print(\"\\n\")\n",
        "\n",
        "# Print the first 10 natural numbers\n",
        "print_sequence(\"First 10 natural numbers\", 1, 10)\n",
        "\n",
        "# Print the first 10 odd numbers\n",
        "print_sequence(\"First 10 odd numbers\", 1, 20, 2)\n",
        "\n",
        "# Print the first 10 even numbers\n",
        "print_sequence(\"First 10 even numbers\", 2, 20, 2)"
      ],
      "metadata": {
        "colab": {
          "base_uri": "https://localhost:8080/"
        },
        "id": "e44v5IPqrtpB",
        "outputId": "b9bd5dee-8be7-4f23-bf4e-7ed2c379f755"
      },
      "execution_count": null,
      "outputs": [
        {
          "output_type": "stream",
          "name": "stdout",
          "text": [
            "First 10 natural numbers:\n",
            "1 2 3 4 5 6 7 8 9 10 \n",
            "\n",
            "First 10 odd numbers:\n",
            "1 3 5 7 9 11 13 15 17 19 \n",
            "\n",
            "First 10 even numbers:\n",
            "2 4 6 8 10 12 14 16 18 20 \n",
            "\n"
          ]
        }
      ]
    },
    {
      "cell_type": "code",
      "source": [
        "def is_prime(num):\n",
        "    if num < 2:\n",
        "        return False\n",
        "    for i in range(2, num):\n",
        "        if num % i == 0:\n",
        "            return False\n",
        "    return True\n",
        "\n",
        "def print_prime_numbers():\n",
        "    count = 0  # staring point of counting\n",
        "    num = 2 # starting point for finding prime numbers  because the first prime number is 2.\n",
        "    while count < 10: # counting of 10 first prime numbers\n",
        "        if is_prime(num):\n",
        "            print(num, end=\" \")\n",
        "            count += 1\n",
        "        num += 1   #increasing the value of num by 1\n",
        "\n",
        "print(\"First 10 prime numbers:\")\n",
        "print_prime_numbers()"
      ],
      "metadata": {
        "colab": {
          "base_uri": "https://localhost:8080/"
        },
        "id": "uuTHZlQVDIxd",
        "outputId": "1f2f711e-b15b-41d7-9c5d-408847e82fef"
      },
      "execution_count": 2,
      "outputs": [
        {
          "output_type": "stream",
          "name": "stdout",
          "text": [
            "First 10 prime numbers:\n",
            "2 3 5 7 11 13 17 19 23 29 "
          ]
        }
      ]
    },
    {
      "cell_type": "markdown",
      "source": [
        "#Program 8: Python program to calculate the sum, subtraction, division, multiplication, floor division, modulus, exponential of all numbers from 1 to a given number input()."
      ],
      "metadata": {
        "id": "XfSqXiNv40Nh"
      }
    },
    {
      "cell_type": "code",
      "source": [
        "def add(a, b,c):\n",
        "    return a+b+c\n",
        "def subtract(a, b,c):\n",
        "    return a-b-c\n",
        "def mult(a, b,c):\n",
        "    return a*b*c\n",
        "def div(a, b,c):\n",
        "    return a/b/c\n",
        "\n",
        "num1 = int(input(\"Enter The First Number: \"))\n",
        "num2 = int(input(\"Enter The Second Number: \"))\n",
        "num3 = int(input(\"Enter The Third Number: \"))\n",
        "\n",
        "operator = input(\"Enter any these operator +,-,*,/ : \")\n",
        "\n",
        "result = 0\n",
        "if operator == '+':\n",
        "    operation = 'Addition'\n",
        "    print(f\"The {operation} of {num1}, {num2} and {num3} is {add(num1, num2,num3)}.\")\n",
        "elif operator == '-':\n",
        "    operation = 'Subtraction'\n",
        "    print(f\"The {operation} of {num1}, {num2} and {num3} is {subtract(num1, num2,num3)}.\")\n",
        "elif operator == '*':\n",
        "    operation = 'Multiplication'\n",
        "    print(f\"The {operation} of {num1}, {num2} and {num3} is {mult(num1, num2,num3)}.\")\n",
        "elif operator == '/':\n",
        "    operation = 'Division'\n",
        "    print(f\"The {operation} of {num1}, {num2} and {num3} is {div(num1, num2,num3)}.\")\n",
        "else:\n",
        "    print(\"Invalid input operator character!\")\n"
      ],
      "metadata": {
        "colab": {
          "base_uri": "https://localhost:8080/"
        },
        "id": "5WKQzghZuz0C",
        "outputId": "cf0a6161-6a6b-4053-a1d9-b86275c97e46"
      },
      "execution_count": null,
      "outputs": [
        {
          "output_type": "stream",
          "name": "stdout",
          "text": [
            "Enter The First Number: 5\n",
            "Enter The Second Number: 5\n",
            "Enter The Third Number: 5\n",
            "Enter any these operator +,-,*,/ : +\n",
            "The Addition of 5, 5 and 5 is 15.\n"
          ]
        }
      ]
    },
    {
      "cell_type": "markdown",
      "source": [
        "# Program 9: Python program that accepts a word from the user and reverses it."
      ],
      "metadata": {
        "id": "UxRe0j6I_UNh"
      }
    },
    {
      "cell_type": "code",
      "source": [
        "# Accept a word from the user\n",
        "word = input(\"Enter a word: \")\n",
        "\n",
        "# Reverse the word\n",
        "reversed_word = word[::-1]\n",
        "\n",
        "# Print the reversed word\n",
        "print(\"Reversed word:\", reversed_word)"
      ],
      "metadata": {
        "colab": {
          "base_uri": "https://localhost:8080/"
        },
        "id": "uygQUOwx7loJ",
        "outputId": "2558d89a-50a3-4d77-8852-1a26afc1a461"
      },
      "execution_count": null,
      "outputs": [
        {
          "output_type": "stream",
          "name": "stdout",
          "text": [
            "Enter a word: narayan\n",
            "Reversed word: nayaran\n"
          ]
        }
      ]
    },
    {
      "cell_type": "code",
      "source": [
        "def reverse_word(word):\n",
        "    return word[::-1]\n",
        "\n",
        "# Accept a word from the user\n",
        "word = input(\"Enter a word: \")\n",
        "\n",
        "# Call the function to reverse the word\n",
        "reversed_word = reverse_word(word)\n",
        "\n",
        "# Print the reversed word\n",
        "print(\"Reversed word:\", reversed_word)"
      ],
      "metadata": {
        "colab": {
          "base_uri": "https://localhost:8080/"
        },
        "id": "4me4Yere7lvZ",
        "outputId": "0807e0be-cd42-4a6c-9c0a-5d3c5004857e"
      },
      "execution_count": null,
      "outputs": [
        {
          "output_type": "stream",
          "name": "stdout",
          "text": [
            "Enter a word: bikash\n",
            "Reversed word: hsakib\n"
          ]
        }
      ]
    },
    {
      "cell_type": "markdown",
      "source": [
        "#Program 10: Python program to check if a given number is an Armstrong number.\n",
        "\n",
        "In case of an Armstrong number of 3 digits, the sum of cubes of each digit is equal to the number itself. For example:\n",
        "\n",
        "153 = 1 * 1 * 1 + 5 * 5 * 5 + 3 * 3 * 3  // 153 is an Armstrong number.\n",
        "\n",
        "#1634\n",
        "\n",
        "#As per the definition all one-digit numbers are Armstrong numbers. There are no any two digits Armstrong numbers. Three-digit Armstrong numbers are 153,370,371 and 407."
      ],
      "metadata": {
        "id": "Vtu7zwHSAs5I"
      }
    },
    {
      "cell_type": "code",
      "source": [
        "def is_armstrong_number(number):\n",
        "    # Convert the number to a string to find the number of digits\n",
        "    num_str = str(number)\n",
        "    num_digits = len(num_str)\n",
        "\n",
        "    # Calculate the sum of digits raised to the power of the number of digits\n",
        "    armstrong_sum = sum(int(digit) ** num_digits for digit in num_str)\n",
        "\n",
        "    # Check if the number is an Armstrong number\n",
        "    return armstrong_sum == number\n",
        "\n",
        "# Accept a number from the user\n",
        "user_number = int(input(\"Enter a number: \"))\n",
        "\n",
        "# Call the function to check if it's an Armstrong number\n",
        "if is_armstrong_number(user_number):\n",
        "    print(f\"{user_number} is an Armstrong number.\")\n",
        "else:\n",
        "    print(f\"{user_number} is not an Armstrong number.\")"
      ],
      "metadata": {
        "colab": {
          "base_uri": "https://localhost:8080/"
        },
        "id": "cfG69nhT7lyQ",
        "outputId": "caa68533-494b-411e-c06e-1b4716c686ea"
      },
      "execution_count": null,
      "outputs": [
        {
          "output_type": "stream",
          "name": "stdout",
          "text": [
            "Enter a number: 156\n",
            "156 is not an Armstrong number.\n"
          ]
        }
      ]
    },
    {
      "cell_type": "markdown",
      "source": [
        "#Program 11: Python program to get the Fibonacci series between 0 to input().\n",
        "\n",
        "Fibonacci series is a series of numbers in which each number ( Fibonacci number ) is the sum of the two preceding numbers. The simplest is the series 1, 1, 2, 3, 5, 8, etc."
      ],
      "metadata": {
        "id": "ZutFheVwE4EQ"
      }
    },
    {
      "cell_type": "code",
      "source": [
        "num = 10 # print the first 10 Fibonacci number\n",
        "a, b = 0, 1\n",
        "print(\"Fibonacci Series:\", a, b, end=\" \")\n",
        "for i in range(2, num):\n",
        "    c = a + b\n",
        "    a = b\n",
        "    b = c\n",
        "    print(c, end=\" \") # all the time, c will be the Fibonacci number. Hence, print it...\n",
        "\n",
        "print()"
      ],
      "metadata": {
        "colab": {
          "base_uri": "https://localhost:8080/"
        },
        "id": "d5fBX01f7l0Y",
        "outputId": "458db33b-b36d-4897-9967-bf925639f076"
      },
      "execution_count": null,
      "outputs": [
        {
          "output_type": "stream",
          "name": "stdout",
          "text": [
            "Fibonacci Series: 0 1 1 2 3 5 8 13 21 34 \n"
          ]
        }
      ]
    },
    {
      "cell_type": "markdown",
      "source": [
        "# Problem 12-Extra: Swap Two Numbers: creating a temporary variable"
      ],
      "metadata": {
        "id": "Ib94Tx57MCtx"
      }
    },
    {
      "cell_type": "code",
      "source": [
        "# To take inputs from the user\n",
        "x = input('Enter value of x: ')\n",
        "y = input('Enter value of y: ')\n",
        "\n",
        "# create a temporary variable and swap the values\n",
        "temp = x\n",
        "x = y\n",
        "y = temp\n",
        "\n",
        "print('The value of x after swapping: {}'.format(x))\n",
        "print('The value of y after swapping: {}'.format(y))"
      ],
      "metadata": {
        "colab": {
          "base_uri": "https://localhost:8080/"
        },
        "id": "1rfH68QZ7l2p",
        "outputId": "02364f9f-0042-4626-dfcd-a12c9cd9ef4b"
      },
      "execution_count": null,
      "outputs": [
        {
          "output_type": "stream",
          "name": "stdout",
          "text": [
            "Enter value of x: 3\n",
            "Enter value of y: 7\n",
            "The value of x after swapping: 7\n",
            "The value of y after swapping: 3\n"
          ]
        }
      ]
    },
    {
      "cell_type": "markdown",
      "source": [
        "##Another method: Swap Two Numbers: DIRECT METHOD..."
      ],
      "metadata": {
        "id": "fKjxByj3M3N3"
      }
    },
    {
      "cell_type": "code",
      "source": [
        "#x = 5\n",
        "#y = 10\n",
        "x = input('Enter value of x: ')\n",
        "y = input('Enter value of y: ')\n",
        "\n",
        "x, y = y, x\n",
        "print(\"x =\", x)\n",
        "print(\"y =\", y)"
      ],
      "metadata": {
        "colab": {
          "base_uri": "https://localhost:8080/"
        },
        "id": "yDjvy5dXMnpH",
        "outputId": "1b0c1139-7206-472e-af2a-4fb98aa10895"
      },
      "execution_count": null,
      "outputs": [
        {
          "output_type": "stream",
          "name": "stdout",
          "text": [
            "Enter value of x: 4\n",
            "Enter value of y: 9\n",
            "x = 9\n",
            "y = 4\n"
          ]
        }
      ]
    },
    {
      "cell_type": "markdown",
      "source": [
        "#Program 13: Python program to find the factorial of a given number."
      ],
      "metadata": {
        "id": "_ijSPlZWNfD7"
      }
    },
    {
      "cell_type": "code",
      "source": [
        "def factorial(n):\n",
        "    if n == 0 or n == 1:\n",
        "        return 1\n",
        "    else:\n",
        "        return n * factorial(n - 1)\n",
        "\n",
        "# Accept a number from the user: Defining the input\n",
        "user_number = int(input(\"Enter a number to find its factorial: \"))\n",
        "\n",
        "# Call the function to find the factorial: Defining the output\n",
        "result = factorial(user_number)\n",
        "\n",
        "# Print the factorial using the input/parameter and the output\n",
        "print(f\"The factorial of {user_number} is: {result}.\")"
      ],
      "metadata": {
        "colab": {
          "base_uri": "https://localhost:8080/"
        },
        "id": "Sc3dJg5XMntx",
        "outputId": "111c557b-8647-4457-9219-c5dcefd51f89"
      },
      "execution_count": null,
      "outputs": [
        {
          "output_type": "stream",
          "name": "stdout",
          "text": [
            "Enter a number to find its factorial: 5\n",
            "The factorial of 5 is: 120.\n"
          ]
        }
      ]
    },
    {
      "cell_type": "markdown",
      "source": [
        "#Program 14: Python program to convert the month name to a number of days.\n",
        "\n",
        "April, June, September, November--30 days\n",
        "\n",
        "February--28 or 29 day in the leap year\n",
        "\n",
        "Others--31 days"
      ],
      "metadata": {
        "id": "CsVLCpjcPwrY"
      }
    },
    {
      "cell_type": "code",
      "source": [
        "def month_to_days(month_name):\n",
        "    month_name = month_name.lower()\n",
        "    days_in_month = {\n",
        "        'january': 31,\n",
        "        'february': 28,\n",
        "        'march': 31,\n",
        "        'april': 30,\n",
        "        'may': 31,\n",
        "        'june': 30,\n",
        "        'july': 31,\n",
        "        'august': 31,\n",
        "        'september': 30,\n",
        "        'october': 31,\n",
        "        'november': 30,\n",
        "        'december': 31\n",
        "    }\n",
        "\n",
        "    if month_name in days_in_month:\n",
        "        return days_in_month[month_name]\n",
        "    else:\n",
        "        return \"Invalid month name\"\n",
        "\n",
        "# Accept the month name from the user\n",
        "user_month = input(\"Enter the month name: \")\n",
        "\n",
        "# Call the function to convert to days\n",
        "result = month_to_days(user_month)\n",
        "\n",
        "# Print the result\n",
        "print(f\"The number of days in {user_month.capitalize()} is: {result}.\")"
      ],
      "metadata": {
        "colab": {
          "base_uri": "https://localhost:8080/"
        },
        "id": "C4xqffzrNs7P",
        "outputId": "ee56eef3-aa0d-4eab-e15d-dca1826c4214"
      },
      "execution_count": null,
      "outputs": [
        {
          "output_type": "stream",
          "name": "stdout",
          "text": [
            "Enter the month name: January\n",
            "The number of days in January is: 31.\n"
          ]
        }
      ]
    },
    {
      "cell_type": "markdown",
      "source": [
        "# Alternative method:"
      ],
      "metadata": {
        "id": "10BwxBdMNs-_"
      }
    },
    {
      "cell_type": "code",
      "source": [
        "# Display a list of months to the user\n",
        "print(\"List of months: January, February, March, April, May, June, July, August, September, October, November, December\")\n",
        "\n",
        "# Request input from the user to enter the name of a month and assign it to the variable 'month_name'\n",
        "month_name = input(\"Input the name of Month: \")\n",
        "\n",
        "# Check the input 'month_name' and provide the number of days based on the entered month\n",
        "if month_name == \"February\":\n",
        "    print(\"No. of days: 28/29 days\")  # Display the number of days in February (28 or 29 days for leap years)\n",
        "elif month_name in (\"April\", \"June\", \"September\", \"November\"):\n",
        "    print(\"No. of days: 30 days\")  # Display the number of days for months having 30 days\n",
        "elif month_name in (\"January\", \"March\", \"May\", \"July\", \"August\", \"October\", \"December\"):\n",
        "    print(\"No. of days: 31 days\")  # Display the number of days for months having 31 days\n",
        "else:\n",
        "    print(\"Wrong month name\")  # If the entered month name doesn't match any of the above conditions, display an error message"
      ],
      "metadata": {
        "colab": {
          "base_uri": "https://localhost:8080/"
        },
        "id": "jCqXg2ErSPqn",
        "outputId": "aa11b51b-4ca1-4df9-d4a1-ece0d9302009"
      },
      "execution_count": null,
      "outputs": [
        {
          "output_type": "stream",
          "name": "stdout",
          "text": [
            "List of months: January, February, March, April, May, June, July, August, September, October, November, December\n",
            "Input the name of Month: February\n",
            "No. of days: 28/29 days\n"
          ]
        }
      ]
    },
    {
      "cell_type": "markdown",
      "source": [
        "#Program 14.A) :  Palindrome Check\n",
        "\n",
        "A palindrome is a string that reads the same forward and backward, for example, radar, toot, and madam."
      ],
      "metadata": {
        "id": "eYq6LTrxT-Qd"
      }
    },
    {
      "cell_type": "code",
      "source": [
        "def is_palindrome(word):\n",
        "    # Convert the word to lowercase for case-insensitivity\n",
        "    word = word.lower()\n",
        "\n",
        "    # Remove spaces from the word\n",
        "    word = word.replace(\" \", \"\")\n",
        "\n",
        "    # Check if the word is equal to its reverse\n",
        "    return word == word[::-1]\n",
        "\n",
        "# Accept a word from the user\n",
        "user_word = input(\"Enter a word to check if it's a palindrome: \")\n",
        "\n",
        "# Call the function to check if it's a palindrome\n",
        "if is_palindrome(user_word):\n",
        "    print(f\"{user_word} is a palindrome.\")\n",
        "else:\n",
        "    print(f\"{user_word} is not a palindrome.\")"
      ],
      "metadata": {
        "colab": {
          "base_uri": "https://localhost:8080/"
        },
        "id": "1rLhW0G1T-yP",
        "outputId": "108c28d1-9bb7-40b2-f8bc-9389140bab18"
      },
      "execution_count": null,
      "outputs": [
        {
          "output_type": "stream",
          "name": "stdout",
          "text": [
            "Enter a word to check if it's a palindrome: RADOR\n",
            "RADOR is not a palindrome.\n"
          ]
        }
      ]
    },
    {
      "cell_type": "markdown",
      "source": [
        "#Program 14 B : Check if a String is an Anagram\n",
        "An Anagram is a word or phrase formed by rearranging the letters of a different word or phrase, typically using all the letters exactly once. For example, the words “anagram” and “nagaram” are anagrams.\n",
        "\n",
        "\n",
        "\n",
        "```\n",
        "# This is formatted as code\n",
        "```\n",
        "\n",
        "\n",
        "Two strings can’t be anagrams if they aren’t of the same length, so you’ll have to check for that first. If the length check passes, you can then store individual letters and their counts in two Python dictionaries – one for each word. If the dictionaries are identical, the strings are anagrams:"
      ],
      "metadata": {
        "id": "GszKlIwbr7J_"
      }
    },
    {
      "cell_type": "code",
      "source": [
        "def is_anagram(str1,str2):\n",
        "\n",
        "    #Remove spaces and convert to lowercases\n",
        "    str1 = str1.replace(\" \", \"\").lower()\n",
        "    str2 = str2.replace(\" \", \"\").lower()\n",
        "\n",
        "    # checking if the sorted characters are of equal length\n",
        "    return sorted(str1) == sorted(str2)\n",
        "\n",
        "#USE CASES\n",
        "string1 = \"listen\"\n",
        "string2 = \"silent\"\n",
        "print(f\"{string1} and {string2} are anagrams:\", is_anagram(string1, string2))\n",
        "\n",
        "string3 = \"hello\"\n",
        "string4 = \"world\"\n",
        "print(f\"{string1} and {string2} are anagrams:\",is_anagram(string3, string4))"
      ],
      "metadata": {
        "colab": {
          "base_uri": "https://localhost:8080/"
        },
        "id": "b0hH-3Jgskdo",
        "outputId": "2e8b4a87-830e-4af7-a0ba-eab3b928666f"
      },
      "execution_count": null,
      "outputs": [
        {
          "output_type": "stream",
          "name": "stdout",
          "text": [
            "listen and silent are anagrams: True\n",
            "listen and silent are anagrams: False\n"
          ]
        }
      ]
    },
    {
      "cell_type": "markdown",
      "source": [
        "#Program 14.C):Write Python Program for a leap year:\n",
        "\n",
        "A leap year is exactly divisible by 4 except for century years ( years ending with 00). So, the century year is aleap year if it is perfectly divisible by 400."
      ],
      "metadata": {
        "id": "R9jCgFbqmk-I"
      }
    },
    {
      "cell_type": "code",
      "source": [
        "def is_leap_year(year):\n",
        "    # Leap years are divisible by 4\n",
        "    # Except for years that are divisible by 100, unless they are also divisible by 400\n",
        "    return (year % 4 == 0 and year % 100 != 0) or (year % 400 == 0)\n",
        "\n",
        "# Accept a year from the user\n",
        "user_year = int(input(\"Enter a year to check if it's a leap year: \"))\n",
        "\n",
        "# Call the function to check if it's a leap year\n",
        "if is_leap_year(user_year):\n",
        "    print(f\"{user_year} is a leap year.\")\n",
        "else:\n",
        "    print(f\"{user_year} is not a leap year.\")"
      ],
      "metadata": {
        "colab": {
          "base_uri": "https://localhost:8080/"
        },
        "id": "8c2htw4ST-5v",
        "outputId": "6fb5a560-154c-4449-e464-ee37448453dc"
      },
      "execution_count": null,
      "outputs": [
        {
          "output_type": "stream",
          "name": "stdout",
          "text": [
            "Enter a year to check if it's a leap year: 2001\n",
            "2001 is not a leap year.\n"
          ]
        }
      ]
    },
    {
      "cell_type": "markdown",
      "source": [
        "#Program 14.D):Write Python Program for a CALCULATOR:"
      ],
      "metadata": {
        "id": "mZ0t6Nh9t_NA"
      }
    },
    {
      "cell_type": "code",
      "source": [
        "p = int(input(\"Enter the first input: \"))\n",
        "q = int(input(\"Enter the second input: \"))\n",
        "oper = input(\"Enter the type of operation you want to perform (+, -, *, /, %): \")\n",
        "result = 0\n",
        "if oper == \"+\":\n",
        "    result = p+q\n",
        "elif oper == \"-\":\n",
        "    result = p-q\n",
        "elif oper == \"*\":\n",
        "    result = p*q\n",
        "elif oper == \"/\": #Division\n",
        "    result = p//q  # Integer Division:\n",
        "elif oper == \"%\": #Modulo (Remainder)\n",
        "    result = p%q\n",
        "else:\n",
        "    print(\"Invalid Input\")\n",
        "print(\"Your answer is: \",result)"
      ],
      "metadata": {
        "colab": {
          "base_uri": "https://localhost:8080/"
        },
        "id": "pKXSEORFT-8-",
        "outputId": "f95c47ae-d854-4c6f-de84-1efa867b0835"
      },
      "execution_count": null,
      "outputs": [
        {
          "output_type": "stream",
          "name": "stdout",
          "text": [
            "Enter the first input: 13\n",
            "Enter the second input: 4\n",
            "Enter the type of operation you want to perform (+, -, *, /, %): %\n",
            "Your answer is:  1\n"
          ]
        }
      ]
    },
    {
      "cell_type": "markdown",
      "source": [
        "# 14.E) Simple Calculator (+, -, *, /, %, //, **)"
      ],
      "metadata": {
        "id": "yXmcpGv9UrN1"
      }
    },
    {
      "cell_type": "code",
      "source": [
        "def add(x, y):\n",
        "    return x + y\n",
        "\n",
        "def subtract(x, y):\n",
        "    return x - y\n",
        "\n",
        "def multiply(x, y):\n",
        "    return x * y\n",
        "\n",
        "def divide(x, y):\n",
        "    if y != 0:\n",
        "        return x / y\n",
        "    else:\n",
        "        return \"Cannot divide by zero\"\n",
        "\n",
        "def modulus(x, y):\n",
        "    if y != 0:\n",
        "        return x % y\n",
        "    else:\n",
        "        return \"Cannot calculate modulus with zero divisor\"\n",
        "\n",
        "def floor_divide(x, y):\n",
        "    if y != 0:\n",
        "        return x // y\n",
        "    else:\n",
        "        return \"Cannot floor divide by zero\"\n",
        "\n",
        "def exponentiate(x, y):\n",
        "    return x ** y\n",
        "\n",
        "# Function to perform calculator operations\n",
        "def calculator_operation(operation, x, y):\n",
        "    if operation == '+':\n",
        "        return add(x, y)\n",
        "    elif operation == '-':\n",
        "        return subtract(x, y)\n",
        "    elif operation == '*':\n",
        "        return multiply(x, y)\n",
        "    elif operation == '/':\n",
        "        return divide(x, y)\n",
        "    elif operation == '%':\n",
        "        return modulus(x, y)\n",
        "    elif operation == '//':\n",
        "        return floor_divide(x, y)\n",
        "    elif operation == '**':\n",
        "        return exponentiate(x, y)\n",
        "    else:\n",
        "        return \"Invalid operation\"\n",
        "\n",
        "# Accept input from the user\n",
        "num1 = float(input(\"Enter the first number: \"))\n",
        "operation = input(\"Enter the operation (+, -, *, /, %, //, **): \")\n",
        "num2 = float(input(\"Enter the second number: \"))\n",
        "\n",
        "# Perform the specified operation\n",
        "result = calculator_operation(operation, num1, num2)\n",
        "\n",
        "# Print the result\n",
        "print(f\"\\nResult of {num1} {operation} {num2} = {result}\")"
      ],
      "metadata": {
        "colab": {
          "base_uri": "https://localhost:8080/"
        },
        "id": "0w6kjcPSvLov",
        "outputId": "f0446651-48a9-4a4d-f8bf-f436e55f114c"
      },
      "execution_count": null,
      "outputs": [
        {
          "output_type": "stream",
          "name": "stdout",
          "text": [
            "Enter the first number: 5\n",
            "Enter the operation (+, -, *, /, %, //, **): 7\n",
            "Enter the second number: 8\n",
            "\n",
            "Result of 5.0 7 8.0 = Invalid operation\n"
          ]
        }
      ]
    },
    {
      "cell_type": "markdown",
      "source": [
        "#Program 15:Write Python Program for\n"
      ],
      "metadata": {
        "id": "GAA-TqGV7mW5"
      }
    },
    {
      "cell_type": "markdown",
      "source": [
        "# Hello World"
      ],
      "metadata": {
        "id": "eirIP6En7_v2"
      }
    },
    {
      "cell_type": "code",
      "source": [
        "def say_hello():\n",
        "    print(\"Hello, world\")\n",
        "say_hello()"
      ],
      "metadata": {
        "colab": {
          "base_uri": "https://localhost:8080/"
        },
        "id": "MUWwn3xlAcEw",
        "outputId": "70214505-070a-4148-f74e-60c6a45dabc3"
      },
      "execution_count": null,
      "outputs": [
        {
          "output_type": "stream",
          "name": "stdout",
          "text": [
            "Hello, world\n"
          ]
        }
      ]
    },
    {
      "cell_type": "code",
      "execution_count": null,
      "metadata": {
        "id": "3-B7iPCQtAIq",
        "colab": {
          "base_uri": "https://localhost:8080/"
        },
        "outputId": "487d4771-d6df-4da0-c06b-4ed5241362c5"
      },
      "outputs": [
        {
          "output_type": "stream",
          "name": "stdout",
          "text": [
            "Welcome to the  Python class, greetings from the programming family.\n"
          ]
        }
      ],
      "source": [
        "def welcome_world(name):\n",
        "    print(\"Welcome to the \" ,name, \"class,\" \" greetings from the programming family.\")\n",
        "name = \"Python\"\n",
        "\n",
        "welcome_world(name)"
      ]
    },
    {
      "cell_type": "markdown",
      "source": [
        "# Addition of Two Numbers:"
      ],
      "metadata": {
        "id": "XgBknz5hLLFU"
      }
    },
    {
      "cell_type": "code",
      "source": [
        "def add_num(a,b):\n",
        "    return a+b\n",
        "\n",
        "#USE CASE:\n",
        "num1 = 3\n",
        "num2= 4\n",
        "\n",
        "result = add_num(num1,num2)\n",
        "print(\"The sum of\", num1, \"and\", num2, \"is:\", result)"
      ],
      "metadata": {
        "colab": {
          "base_uri": "https://localhost:8080/"
        },
        "id": "-zJSVzfBLNpq",
        "outputId": "302079f5-1992-4473-e22b-9c7efb041382"
      },
      "execution_count": null,
      "outputs": [
        {
          "output_type": "stream",
          "name": "stdout",
          "text": [
            "The sum of 3 and 4 is: 7\n"
          ]
        }
      ]
    },
    {
      "cell_type": "markdown",
      "source": [
        "# Factorial Calculation"
      ],
      "metadata": {
        "id": "IeDA7nd-NM9-"
      }
    },
    {
      "cell_type": "code",
      "source": [
        "def factorial(n):\n",
        "    if n ==1:\n",
        "        return 1\n",
        "    else:\n",
        "        return n * factorial (n-1)\n",
        "\n",
        "#USE CASE:\n",
        "\n",
        "number = 4\n",
        "\n",
        "result = factorial(number)\n",
        "print(\"The factorial of\", number, \"is:\", result)"
      ],
      "metadata": {
        "colab": {
          "base_uri": "https://localhost:8080/"
        },
        "id": "UzBeYoaiNPP_",
        "outputId": "fd7ac08f-8cfd-4a59-be16-5351570ac804"
      },
      "execution_count": null,
      "outputs": [
        {
          "output_type": "stream",
          "name": "stdout",
          "text": [
            "The factorial of 4 is: 24\n"
          ]
        }
      ]
    },
    {
      "cell_type": "markdown",
      "source": [
        "#  Prime Number:"
      ],
      "metadata": {
        "id": "KprgEtIAguMi"
      }
    },
    {
      "cell_type": "code",
      "source": [
        "def is_prime(num):\n",
        "    if num ==1:\n",
        "        return False # 1 is neither a prime nor a composite number....\n",
        "    for i in range(2, int(num**0.5) + 1): # range goes from 2 to the square root of a number\n",
        "        if num % i == 0: #If the given number is divisible by any of the numbers from 2 to the square root of the number, the function will return False\n",
        "            return False\n",
        "    return True\n",
        "\n",
        "\n",
        "#Test Function\n",
        "for num in range(1,10):\n",
        "    print(num, is_prime(num))"
      ],
      "metadata": {
        "colab": {
          "base_uri": "https://localhost:8080/"
        },
        "outputId": "31b8c6e4-0a6e-4fd9-ce5a-e7e999341169",
        "id": "P4hmJfmf8Fk3"
      },
      "execution_count": null,
      "outputs": [
        {
          "output_type": "stream",
          "name": "stdout",
          "text": [
            "1 False\n",
            "2 True\n",
            "3 True\n",
            "4 False\n",
            "5 True\n",
            "6 False\n",
            "7 True\n",
            "8 False\n",
            "9 False\n"
          ]
        }
      ]
    },
    {
      "cell_type": "markdown",
      "source": [
        "# Using a for loop with an if condition:"
      ],
      "metadata": {
        "id": "N_sp9qFqGvgu"
      }
    },
    {
      "cell_type": "code",
      "source": [
        "def is_prime(n):\n",
        "    if n<=1:\n",
        "        return False\n",
        "    for i in range(2, int(n**.5)+1):\n",
        "        if n%i == 0:\n",
        "            return False\n",
        "    return True\n",
        "\n",
        "#USE cases\n",
        "\n",
        "numbers = [2,3,4,5,6,7,8,9,10]\n",
        "\n",
        "prime_number = []\n",
        "\n",
        "for num in numbers:\n",
        "    if is_prime(num):\n",
        "        prime_number.append(num)\n",
        "print(prime_number)"
      ],
      "metadata": {
        "colab": {
          "base_uri": "https://localhost:8080/"
        },
        "id": "58BG3a4_E1lP",
        "outputId": "f8ed24fc-fd9d-4d44-8920-e4d4c16cf8e1"
      },
      "execution_count": null,
      "outputs": [
        {
          "output_type": "stream",
          "name": "stdout",
          "text": [
            "[2, 3, 5, 7]\n"
          ]
        }
      ]
    },
    {
      "cell_type": "markdown",
      "source": [
        "# Using list comprehension:"
      ],
      "metadata": {
        "id": "SZfpQrvfIFaO"
      }
    },
    {
      "cell_type": "code",
      "source": [
        "def is_prime(n):\n",
        "    if n <=1:\n",
        "        return False\n",
        "    for i in range(2, int(n**0.5)+1):\n",
        "        if n%i ==0:\n",
        "            return False\n",
        "    return True\n",
        "\n",
        "#USE CASE:\n",
        "numbers = [1,2,3,4,5,6,7,8,9,10,11]\n",
        "prime_number = [num for num in numbers if is_prime(num)]\n",
        "print(prime_number)\n"
      ],
      "metadata": {
        "colab": {
          "base_uri": "https://localhost:8080/"
        },
        "id": "jcT-OFn0IIKd",
        "outputId": "c9e09857-2399-4a01-9c06-f91b8cd2ff30"
      },
      "execution_count": null,
      "outputs": [
        {
          "output_type": "stream",
          "name": "stdout",
          "text": [
            "[2, 3, 5, 7, 11]\n"
          ]
        }
      ]
    },
    {
      "cell_type": "markdown",
      "source": [
        "# Using a lambda function:"
      ],
      "metadata": {
        "id": "IXHhVLDNX9Vr"
      }
    },
    {
      "cell_type": "code",
      "source": [
        "is_prime = lambda n: n >1 and all(n % i !=0 for i in range(2,int(n**.5)+1))\n",
        "\n",
        "numbers = [1,2,3,4,5,6,7,8,9,10,11,13]\n",
        "\n",
        "prime_numbers = list(filter(is_prime, numbers))\n",
        "print(prime_numbers)"
      ],
      "metadata": {
        "colab": {
          "base_uri": "https://localhost:8080/"
        },
        "id": "SY0gF3gMX_OM",
        "outputId": "5b44e20a-2782-4020-b352-bab688a954ab"
      },
      "execution_count": null,
      "outputs": [
        {
          "output_type": "stream",
          "name": "stdout",
          "text": [
            "[2, 3, 5, 7, 11, 13]\n"
          ]
        }
      ]
    },
    {
      "cell_type": "markdown",
      "source": [
        "#Extra"
      ],
      "metadata": {
        "id": "8k9Whb92KW7s"
      }
    },
    {
      "cell_type": "code",
      "source": [
        "def is_prime(number):\n",
        "    \"\"\"Check if a number is prime.\"\"\"\n",
        "    if number < 2:\n",
        "        return False\n",
        "    for i in range(2, int(number**0.5) + 1):\n",
        "        if number % i == 0:\n",
        "            return False\n",
        "    return True\n",
        "\n",
        "# Example usage:\n",
        "num1 = 17\n",
        "num2 = 25\n",
        "\n",
        "if is_prime(num1):\n",
        "    print(f\"{num1} is a prime number.\")\n",
        "else:\n",
        "    print(f\"{num1} is not a prime number.\")\n",
        "\n",
        "if is_prime(num2):\n",
        "    print(f\"{num2} is a prime number.\")\n",
        "else:\n",
        "    print(f\"{num2} is not a prime number.\")"
      ],
      "metadata": {
        "colab": {
          "base_uri": "https://localhost:8080/"
        },
        "id": "7JQMeuvuBln0",
        "outputId": "52b873b6-54ff-4281-8b85-ce7ab72ff3d1"
      },
      "execution_count": null,
      "outputs": [
        {
          "output_type": "stream",
          "name": "stdout",
          "text": [
            "17 is a prime number.\n",
            "25 is not a prime number.\n"
          ]
        }
      ]
    },
    {
      "cell_type": "markdown",
      "source": [
        "# LOOP:"
      ],
      "metadata": {
        "id": "hEUjX05eXqbn"
      }
    },
    {
      "cell_type": "markdown",
      "source": [
        "# Python Program to Print Right Triangle using While Loop"
      ],
      "metadata": {
        "id": "WdaVva8bKlHI"
      }
    },
    {
      "cell_type": "code",
      "source": [
        "n = int(input('Enter number of rows : '))\n",
        "\n",
        "i = 1\n",
        "while i <= n :\n",
        "    j = 1\n",
        "    while j <= i:\n",
        "        print(\"*\", end = \" \")\n",
        "        j += 1\n",
        "    print()\n",
        "    i += 1"
      ],
      "metadata": {
        "colab": {
          "base_uri": "https://localhost:8080/"
        },
        "id": "AS-qkuOpKbhT",
        "outputId": "7c94f95e-09d3-4f16-ccf9-5bc2eb7601d3"
      },
      "execution_count": null,
      "outputs": [
        {
          "output_type": "stream",
          "name": "stdout",
          "text": [
            "Enter number of rows : 6\n",
            "* \n",
            "* * \n",
            "* * * \n",
            "* * * * \n",
            "* * * * * \n",
            "* * * * * * \n"
          ]
        }
      ]
    },
    {
      "cell_type": "markdown",
      "source": [
        "#Python Program to Print Inverted Right Triangle using While Loop"
      ],
      "metadata": {
        "id": "V1XwIpJIKneR"
      }
    },
    {
      "cell_type": "markdown",
      "source": [
        "#16) Program 4: Write Python Program using Nested-if-else-elif; Password and Username Checking\n"
      ],
      "metadata": {
        "id": "ljT_NmHRZ3vP"
      }
    },
    {
      "cell_type": "code",
      "source": [
        "n = int(input('Enter number of rows : '))\n",
        "\n",
        "i = 1\n",
        "while i <= n :\n",
        "    j = n\n",
        "    while j >= i:\n",
        "        print(\"*\", end = \" \")\n",
        "        j -= 1\n",
        "    print()\n",
        "    i += 1"
      ],
      "metadata": {
        "colab": {
          "base_uri": "https://localhost:8080/"
        },
        "id": "7_mqBMOoKs0o",
        "outputId": "65d045e1-b42f-4081-98e0-d5f63abf6c68"
      },
      "execution_count": null,
      "outputs": [
        {
          "output_type": "stream",
          "name": "stdout",
          "text": [
            "Enter number of rows : 6\n",
            "* * * * * * \n",
            "* * * * * \n",
            "* * * * \n",
            "* * * \n",
            "* * \n",
            "* \n"
          ]
        }
      ]
    },
    {
      "cell_type": "code",
      "source": [
        "# Input the number of rows for the hollow pyramid\n",
        "rows = int(input(\"Enter the number of rows for the hollow pyramid: \"))\n",
        "for i in range(1, rows + 1):\n",
        "    for j in range(1,2*rows):\n",
        "        if (i==rows and j%2!=0) or i+j == rows + 1 or j -i == rows-1:\n",
        "            print('*', end = \"\")\n",
        "        else:\n",
        "            print(' ', end = \"\")\n",
        "    print()\n",
        "\n",
        "\n",
        "\n",
        "\n",
        "\n",
        "\n"
      ],
      "metadata": {
        "colab": {
          "base_uri": "https://localhost:8080/"
        },
        "id": "nFsVkf_tfscZ",
        "outputId": "beaaafdd-81ad-459b-e1e5-09ca623d2ef2"
      },
      "execution_count": null,
      "outputs": [
        {
          "output_type": "stream",
          "name": "stdout",
          "text": [
            "Enter the number of rows for the hollow pyramid: 5\n",
            "    *    \n",
            "   * *   \n",
            "  *   *  \n",
            " *     * \n",
            "* * * * *\n"
          ]
        }
      ]
    },
    {
      "cell_type": "markdown",
      "source": [
        "#Program 17: Write Python Program using \"for - loop\" following patterns\n",
        "\n",
        "\tA. hollow pyramid\n",
        "\tB. hollow square\n",
        "\tC. hollow rectangle\n",
        "\tD. capital alphabet pattern"
      ],
      "metadata": {
        "id": "H1Imb5fQe1Sd"
      }
    },
    {
      "cell_type": "code",
      "source": [
        "# Input the number of rows for the hollow pyramid\n",
        "rows = int(input(\"Enter the number of rows for the hollow pyramid: \"))\n",
        "for i in range(1, rows + 1):\n",
        "    for j in range(1,2*rows):\n",
        "        if i==rows  or i+j == rows + 1 or j -i == rows-1:\n",
        "            print('*', end = \"\")\n",
        "        else:\n",
        "            print(' ', end = \"\")\n",
        "    print()\n"
      ],
      "metadata": {
        "colab": {
          "base_uri": "https://localhost:8080/"
        },
        "id": "4RxM1g8nty7L",
        "outputId": "ea4cddcf-e1a2-415c-c3f5-3f7f893e9290"
      },
      "execution_count": null,
      "outputs": [
        {
          "output_type": "stream",
          "name": "stdout",
          "text": [
            "Enter the number of rows for the hollow pyramid: 5\n",
            "    *    \n",
            "   * *   \n",
            "  *   *  \n",
            " *     * \n",
            "*********\n"
          ]
        }
      ]
    },
    {
      "cell_type": "code",
      "source": [
        "# Initialising Length and Breadth\n",
        "rows = int(input(\"Enter the number of rows: \"))\n",
        "columns = int(input(\"Enter the number of columns: \"))\n",
        "\n",
        "# Loop through number of rows\n",
        "for i in range(rows):\n",
        "\n",
        "    # Loop through number of columns\n",
        "    for j in range(columns):\n",
        "\n",
        "        # Printing Pattern\n",
        "        if(i == 0 or i == rows - 1 or j == 0 or j == columns - 1):\n",
        "            print('*', end = '  ')\n",
        "        else:\n",
        "            print(' ', end = '  ')\n",
        "    print()"
      ],
      "metadata": {
        "colab": {
          "base_uri": "https://localhost:8080/"
        },
        "id": "flo8neUINQoa",
        "outputId": "012a32bb-30f3-4cc3-96ec-36d8cbb16180"
      },
      "execution_count": null,
      "outputs": [
        {
          "output_type": "stream",
          "name": "stdout",
          "text": [
            "Enter the number of rows: 5\n",
            "Enter the number of columns: 5\n",
            "*  *  *  *  *  \n",
            "*           *  \n",
            "*           *  \n",
            "*           *  \n",
            "*  *  *  *  *  \n"
          ]
        }
      ]
    },
    {
      "cell_type": "code",
      "source": [
        "# Hollow square pattern in Python\n",
        "\n",
        "# Reading number of rows\n",
        "row = int(input(\"Enter number of rows: \"))\n",
        "\n",
        "print(\"Hollow sqaure pattern is: \")\n",
        "for i in range(1,row+1):\n",
        "    for j in range(1,row+1):\n",
        "        if i==1 or i==row or j==1 or j==row:\n",
        "            print(\"*\", end=\"\")\n",
        "        else:\n",
        "            print(\" \", end=\"\")\n",
        "    print()"
      ],
      "metadata": {
        "id": "KAjUrlHO-BTe",
        "colab": {
          "base_uri": "https://localhost:8080/"
        },
        "outputId": "8d59c591-0761-47bc-f60f-fa50de66c6f7"
      },
      "execution_count": null,
      "outputs": [
        {
          "output_type": "stream",
          "name": "stdout",
          "text": [
            "Enter number of rows: 6\n",
            "Hollow sqaure pattern is: \n",
            "******\n",
            "*    *\n",
            "*    *\n",
            "*    *\n",
            "*    *\n",
            "******\n"
          ]
        }
      ]
    },
    {
      "cell_type": "markdown",
      "source": [
        "# D) capital alphabet pattern\n",
        "\n",
        "Note: every character/alphabet has an ASCII value. For example, A has an ASCII value of 65 and Z has an ASCII value of 90.\n",
        "\n",
        "We are going to use these values and loop from 65 to 90, then convert the number value to the character and print it.\n",
        "\n",
        "To convert the ASCII value to the character we can use the chr() function."
      ],
      "metadata": {
        "id": "CGKD_rF9NgAS"
      }
    },
    {
      "cell_type": "code",
      "source": [
        "#Example;\n",
        "\n",
        "# loop through alphabets and print them\n",
        "\n",
        "# 65 in char is A\n",
        "# 90 in char is Z\n",
        "for i in range(65, 91):\n",
        "    print(chr(i), end=\" \")"
      ],
      "metadata": {
        "colab": {
          "base_uri": "https://localhost:8080/"
        },
        "id": "v_oCkffINtYh",
        "outputId": "636758fe-0c25-490b-cc84-66903def6503"
      },
      "execution_count": null,
      "outputs": [
        {
          "output_type": "stream",
          "name": "stdout",
          "text": [
            "A B C D E F G H I J K L M N O P Q R S T U V W X Y Z "
          ]
        }
      ]
    },
    {
      "cell_type": "markdown",
      "source": [
        "# A) Square pattern 1: Every character changing\n",
        "\n",
        "To create this simply create 2 nested for loops where the outer loop repeats a row and the internal loop prints the character in a column.\n",
        "\n",
        "To change the character in every iteration one can set a counter and increment it by 1 every time in the inner loop."
      ],
      "metadata": {
        "id": "KCZzYuCwN-2y"
      }
    },
    {
      "cell_type": "code",
      "source": [
        "# square alphabet pattern\n",
        "\n",
        "size = 5\n",
        "count = 0\n",
        "\n",
        "for i in range(size):\n",
        "    for j in range(size):\n",
        "        print(chr(65 + count), end=\" \")\n",
        "        # changing charater\n",
        "        count += 1\n",
        "    print()"
      ],
      "metadata": {
        "colab": {
          "base_uri": "https://localhost:8080/"
        },
        "id": "oboc8HKQOI1o",
        "outputId": "11663d3d-46ff-4672-8c7b-4d6ae5e56980"
      },
      "execution_count": null,
      "outputs": [
        {
          "output_type": "stream",
          "name": "stdout",
          "text": [
            "A B C D E \n",
            "F G H I J \n",
            "K L M N O \n",
            "P Q R S T \n",
            "U V W X Y \n"
          ]
        }
      ]
    },
    {
      "cell_type": "markdown",
      "source": [
        "# B) Square pattern 2: character changing only in a new row:"
      ],
      "metadata": {
        "id": "2yrPYwV5ORUx"
      }
    },
    {
      "cell_type": "code",
      "source": [
        "size = 5\n",
        "\n",
        "for i in range(size):\n",
        "    for j in range(size):\n",
        "        print(chr(65 + i), end=\" \")\n",
        "    print()"
      ],
      "metadata": {
        "colab": {
          "base_uri": "https://localhost:8080/"
        },
        "id": "dYMI3oiQOUay",
        "outputId": "14f79af0-7861-4a3e-bed8-79105d130fde"
      },
      "execution_count": null,
      "outputs": [
        {
          "output_type": "stream",
          "name": "stdout",
          "text": [
            "A A A A A \n",
            "B B B B B \n",
            "C C C C C \n",
            "D D D D D \n",
            "E E E E E \n"
          ]
        }
      ]
    },
    {
      "cell_type": "markdown",
      "source": [
        "#C)Square pattern 3: character changing only in a new column;"
      ],
      "metadata": {
        "id": "sl7Jq30-OumD"
      }
    },
    {
      "cell_type": "code",
      "source": [
        "size = 5\n",
        "\n",
        "for i in range(size):\n",
        "    for j in range(65, 65+size):\n",
        "        print(chr(j), end=' ')\n",
        "    print()"
      ],
      "metadata": {
        "colab": {
          "base_uri": "https://localhost:8080/"
        },
        "id": "fxQ_FI6uOwUZ",
        "outputId": "7fd8f867-addc-4e8c-dc2a-53632a0d5bd5"
      },
      "execution_count": null,
      "outputs": [
        {
          "output_type": "stream",
          "name": "stdout",
          "text": [
            "A B C D E \n",
            "A B C D E \n",
            "A B C D E \n",
            "A B C D E \n",
            "A B C D E \n"
          ]
        }
      ]
    },
    {
      "cell_type": "markdown",
      "source": [
        "# D) Left Triangle Alphabet Pattern in Python:"
      ],
      "metadata": {
        "id": "zgnwiXQIPDyR"
      }
    },
    {
      "cell_type": "code",
      "source": [
        "n = 5\n",
        "for i in range(n):\n",
        "    for j in range(i+1):\n",
        "        print(chr(j + 65), end=\"\")\n",
        "    print()"
      ],
      "metadata": {
        "colab": {
          "base_uri": "https://localhost:8080/"
        },
        "id": "URb5k_d7PGeg",
        "outputId": "73e62534-42ea-4a4f-aa04-e2b4fa43e5e4"
      },
      "execution_count": null,
      "outputs": [
        {
          "output_type": "stream",
          "name": "stdout",
          "text": [
            "A\n",
            "AB\n",
            "ABC\n",
            "ABCD\n",
            "ABCDE\n"
          ]
        }
      ]
    },
    {
      "cell_type": "markdown",
      "source": [
        "# E) Right triangle Pattern:\n",
        "Create 2 nested loops where the external loop will run an internal loop for the size of the pattern.\n",
        "\n",
        "There will be 2 internal loops first one will print spaces and the other will print the character."
      ],
      "metadata": {
        "id": "iLhXFD7IPcjC"
      }
    },
    {
      "cell_type": "code",
      "source": [
        "size = 5\n",
        "for i in range(size):\n",
        "    for j in range(1, size - i):\n",
        "        print(\" \", end=\"\")\n",
        "    for k in range(i + 1):\n",
        "        print(chr(65 + k), end=\"\")\n",
        "    print()"
      ],
      "metadata": {
        "colab": {
          "base_uri": "https://localhost:8080/"
        },
        "id": "1XNpcPpPPfM4",
        "outputId": "07f2a346-573f-4afa-e763-7799e4de8629"
      },
      "execution_count": null,
      "outputs": [
        {
          "output_type": "stream",
          "name": "stdout",
          "text": [
            "    A\n",
            "   AB\n",
            "  ABC\n",
            " ABCD\n",
            "ABCDE\n"
          ]
        }
      ]
    },
    {
      "cell_type": "markdown",
      "source": [
        "#F)  Hollow triangle alphabet Pattern:\n",
        "\n",
        "To create this you can create 2 nested loops where\n",
        "\n",
        "the internal loop will check if it is the first and the last position of the row then print character else print spaces and\n",
        "\n",
        "if it is the last row then print only characters."
      ],
      "metadata": {
        "id": "CMxV04QYPoQa"
      }
    },
    {
      "cell_type": "code",
      "source": [
        "n = 6\n",
        "for i in range(1, n+1):\n",
        "    count = 0\n",
        "    for j in range(i):\n",
        "        # print alphabets only at start and end of the row\n",
        "        if j == 0 or j == i-1:\n",
        "            print(chr(65 + count), end='')\n",
        "            count += 1\n",
        "        # print only alphabets if it's last row\n",
        "        else:\n",
        "            if i != n:\n",
        "                print(' ', end='')\n",
        "            else:\n",
        "                print(chr(65 + count), end='')\n",
        "                count += 1\n",
        "    print()"
      ],
      "metadata": {
        "colab": {
          "base_uri": "https://localhost:8080/"
        },
        "id": "bSeU0FinPwsD",
        "outputId": "2f8ae4ad-8ea7-4fa8-cd69-a296ac37fdb7"
      },
      "execution_count": null,
      "outputs": [
        {
          "output_type": "stream",
          "name": "stdout",
          "text": [
            "A\n",
            "AB\n",
            "A B\n",
            "A  B\n",
            "A   B\n",
            "ABCDEF\n"
          ]
        }
      ]
    },
    {
      "cell_type": "markdown",
      "source": [
        "#G)  Pyramid Alphabet Pattern in Python:\n",
        "\n",
        " The pattern  has an odd number of alphabets in each row 1, 3, 5, 7, etc.\n",
        "\n",
        "There will be 2 loops where the first loop will print spaces and the second loop will print the 2n + 1 alphabets.\n"
      ],
      "metadata": {
        "id": "oQnVqycCQclB"
      }
    },
    {
      "cell_type": "code",
      "source": [
        "n = 5\n",
        "for i in range(n):\n",
        "    for j in range(n - i - 1):\n",
        "        print(' ', end='')\n",
        "    for k in range(2 * i + 1):\n",
        "        print(chr(65 + k), end='')\n",
        "    print()"
      ],
      "metadata": {
        "colab": {
          "base_uri": "https://localhost:8080/"
        },
        "id": "qp2ha30gQd8q",
        "outputId": "b51be154-4511-4d56-b363-f44ededcc743"
      },
      "execution_count": null,
      "outputs": [
        {
          "output_type": "stream",
          "name": "stdout",
          "text": [
            "    A\n",
            "   ABC\n",
            "  ABCDE\n",
            " ABCDEFG\n",
            "ABCDEFGHI\n"
          ]
        }
      ]
    },
    {
      "cell_type": "markdown",
      "source": [
        "#H) Hollow pyramid pattern:\n",
        "\n",
        "The first internal loop prints spaces and the second loop checks if it is the first or last position of the row then prints the character and\n",
        "\n",
        "if its the last row then prints only characters."
      ],
      "metadata": {
        "id": "mH_aD6NGQ5-h"
      }
    },
    {
      "cell_type": "code",
      "source": [
        "n = 5\n",
        "for i in range(n):\n",
        "    # printing spaces\n",
        "    for j in range(n - i - 1):\n",
        "        print(' ', end='')\n",
        "\n",
        "    # printing alphabets\n",
        "    count = 0\n",
        "    for k in range(2 * i + 1):\n",
        "        # print alphabets at start and end of the row\n",
        "        if k == 0 or k == 2 * i:\n",
        "            print(chr(65 + count), end='')\n",
        "            count += 1\n",
        "        else:\n",
        "            if i == n - 1:\n",
        "                print(chr(65 + count), end='')\n",
        "                count += 1\n",
        "            else:\n",
        "                print(' ', end='')\n",
        "    print()"
      ],
      "metadata": {
        "colab": {
          "base_uri": "https://localhost:8080/"
        },
        "id": "K0wcMGQ3Q78o",
        "outputId": "dc62e537-23a1-43b6-a943-727c14bf6a09"
      },
      "execution_count": null,
      "outputs": [
        {
          "output_type": "stream",
          "name": "stdout",
          "text": [
            "    A\n",
            "   A B\n",
            "  A   B\n",
            " A     B\n",
            "ABCDEFGHI\n"
          ]
        }
      ]
    },
    {
      "cell_type": "markdown",
      "source": [
        " # I) Reverse pyramid pattern:\n",
        "\n",
        "The reverse pyramid pattern is equivalent to a pyramid pattern but upside down."
      ],
      "metadata": {
        "id": "OJ7AYHC-Rv0x"
      }
    },
    {
      "cell_type": "code",
      "source": [
        "n = 5\n",
        "\n",
        "for i in range(n):\n",
        "    # printing spaces\n",
        "    for j in range(i):\n",
        "        print(' ', end='')\n",
        "    # printing alphabet\n",
        "    for j in range(2*(n-i)-1):\n",
        "        print(chr(65 + j), end='')\n",
        "    print()"
      ],
      "metadata": {
        "colab": {
          "base_uri": "https://localhost:8080/"
        },
        "id": "z6q0h2pkRtvn",
        "outputId": "0f78ec8a-d1d4-43c0-d545-ffe802360b6f"
      },
      "execution_count": null,
      "outputs": [
        {
          "output_type": "stream",
          "name": "stdout",
          "text": [
            "ABCDEFGHI\n",
            " ABCDEFG\n",
            "  ABCDE\n",
            "   ABC\n",
            "    A\n"
          ]
        }
      ]
    },
    {
      "cell_type": "markdown",
      "source": [
        " # J) Diamond pattern:\n",
        "\n",
        "The diamond pattern when observed carefully you will see is made up of 2 parts, the first part is the same as the pyramid pattern and the second part is the same as the reverse pyramid pattern."
      ],
      "metadata": {
        "id": "LoBCMuwpSJSa"
      }
    },
    {
      "cell_type": "code",
      "source": [
        "n = 5\n",
        "\n",
        "# upward pyramid\n",
        "for i in range(n):\n",
        "    for j in range(n - i - 1):\n",
        "        print(' ', end='')\n",
        "    for j in range(2 * i + 1):\n",
        "        print(chr(65 + j), end='')\n",
        "    print()\n",
        "\n",
        "# downward pyramid\n",
        "for i in range(n - 1):\n",
        "    for j in range(i + 1):\n",
        "        print(' ', end='')\n",
        "    for j in range(2*(n - i - 1) - 1):\n",
        "        print(chr(65 + j), end='')\n",
        "    print()\n",
        "\n"
      ],
      "metadata": {
        "colab": {
          "base_uri": "https://localhost:8080/"
        },
        "id": "vafWxcVcSJsy",
        "outputId": "c2388817-32a2-4e3d-f346-a40f73ad4050"
      },
      "execution_count": null,
      "outputs": [
        {
          "output_type": "stream",
          "name": "stdout",
          "text": [
            "    A\n",
            "   ABC\n",
            "  ABCDE\n",
            " ABCDEFG\n",
            "ABCDEFGHI\n",
            " ABCDEFG\n",
            "  ABCDE\n",
            "   ABC\n",
            "    A\n"
          ]
        }
      ]
    },
    {
      "cell_type": "markdown",
      "source": [
        "#Program 6 A): Write Python Program using \"while - loop\" following patterns\n",
        "\n",
        "\t#1. hollow pyramid"
      ],
      "metadata": {
        "id": "Nad-PrsBTRoR"
      }
    },
    {
      "cell_type": "code",
      "source": [
        "def hollow_pyramid(rows):\n",
        "    i = 0\n",
        "    while i < rows:\n",
        "        spaces = rows - i - 1\n",
        "        while spaces > 0:\n",
        "            print(\" \", end=\"\")\n",
        "            spaces -= 1\n",
        "\n",
        "        j = 0\n",
        "        while j < 2 * i + 1:\n",
        "            if j == 0 or j == 2 * i  or i == rows - 1 :\n",
        "                print(\"*\", end=\"\")\n",
        "            else:\n",
        "                print(\" \", end=\"\")\n",
        "            j += 1\n",
        "\n",
        "        print()\n",
        "        i += 1\n",
        "\n",
        "# Get the number of rows from the user\n",
        "rows = int(input(\"Enter the number of rows for the hollow pyramid: \"))\n",
        "\n",
        "# Call the function to print the hollow pyramid\n",
        "hollow_pyramid(rows)\n",
        "\n"
      ],
      "metadata": {
        "colab": {
          "base_uri": "https://localhost:8080/"
        },
        "outputId": "1b8fd397-f150-4a0a-dca5-031a5b826e2c",
        "id": "EHiAzYrMTS39"
      },
      "execution_count": null,
      "outputs": [
        {
          "output_type": "stream",
          "name": "stdout",
          "text": [
            "Enter the number of rows for the hollow pyramid: 5\n",
            "    *\n",
            "   * *\n",
            "  *   *\n",
            " *     *\n",
            "*********\n"
          ]
        }
      ]
    },
    {
      "cell_type": "markdown",
      "source": [
        "#6.B)  hollow square USING THE WHILE loop\n",
        "\n",
        "In this script, the outer while loop controls the rows, and the inner while loop controls the columns. The conditions inside the inner while loop determine whether to print an asterisk (*) or a space.\n",
        "\n",
        "The conditions (if i == 0 or i == rows - 1 or j == 0 or j == rows - 1:) ensure that an asterisk is printed only at the edges of the square, while spaces are printed in the interior."
      ],
      "metadata": {
        "id": "FOwGubsVTudB"
      }
    },
    {
      "cell_type": "code",
      "source": [
        "def hollow_square(rows):\n",
        "    i = 0\n",
        "    while i < rows:\n",
        "        j = 0\n",
        "        while j < rows:\n",
        "            if i == 0 or i == rows - 1 or j == 0 or j == rows - 1:\n",
        "                print(\"*\", end=\"\")\n",
        "            else:\n",
        "                print(\" \", end=\"\")\n",
        "            j += 1\n",
        "        print()\n",
        "        i += 1\n",
        "\n",
        "# Get the number of rows from the user\n",
        "rows = int(input(\"Enter the number of rows for the hollow square: \"))\n",
        "\n",
        "# Call the function to print the hollow square\n",
        "hollow_square(rows)\n"
      ],
      "metadata": {
        "colab": {
          "base_uri": "https://localhost:8080/"
        },
        "outputId": "115606ae-1ffe-4e34-99bf-de93269e5864",
        "id": "NSUCQjvwTu-F"
      },
      "execution_count": null,
      "outputs": [
        {
          "output_type": "stream",
          "name": "stdout",
          "text": [
            "Enter the number of rows for the hollow square: 5\n",
            "*****\n",
            "*   *\n",
            "*   *\n",
            "*   *\n",
            "*****\n"
          ]
        }
      ]
    },
    {
      "cell_type": "markdown",
      "source": [
        "#6.c)  hollow rectangle USING THE WHILE loop:\n",
        "\n",
        "In this script, the outer while loop controls the rows, and the inner while loop controls the columns. The conditions inside the inner while loop determine whether to print an asterisk (*) or a space.\n",
        "\n",
        "The conditions (if i == 0 or i == rows - 1 or j == 0 or j == columns - 1:) ensure that an asterisk is printed only at the edges of the rectangle, while spaces are printed in the interior."
      ],
      "metadata": {
        "id": "NUsQTPGWUXVY"
      }
    },
    {
      "cell_type": "code",
      "source": [
        "def hollow_rectangle(rows, columns):\n",
        "    i = 0\n",
        "    while i < rows:\n",
        "        j = 0\n",
        "        while j < columns:\n",
        "            if i == 0 or i == rows - 1 or j == 0 or j == columns - 1:\n",
        "                print(\"*\", end=\"\")\n",
        "            else:\n",
        "                print(\" \", end=\"\")\n",
        "            j += 1\n",
        "        print()\n",
        "        i += 1\n",
        "\n",
        "# Get the number of rows and columns from the user\n",
        "rows = int(input(\"Enter the number of rows for the hollow rectangle: \"))\n",
        "columns = int(input(\"Enter the number of columns for the hollow rectangle: \"))\n",
        "\n",
        "# Call the function to print the hollow rectangle\n",
        "hollow_rectangle(rows, columns)"
      ],
      "metadata": {
        "colab": {
          "base_uri": "https://localhost:8080/"
        },
        "id": "Tpr9lHvzUUno",
        "outputId": "ad253979-a120-4ef8-e4d4-fa926f2524c3"
      },
      "execution_count": null,
      "outputs": [
        {
          "output_type": "stream",
          "name": "stdout",
          "text": [
            "Enter the number of rows for the hollow rectangle: 5\n",
            "Enter the number of columns for the hollow rectangle: 4\n",
            "****\n",
            "*  *\n",
            "*  *\n",
            "*  *\n",
            "****\n"
          ]
        }
      ]
    },
    {
      "cell_type": "markdown",
      "source": [
        "# Four Features of OOPs:\n",
        "\n",
        "In this example:\n",
        "\n",
        "Shape is an abstract class with an abstract method area.\n",
        "Circle and Square are concrete classes that inherit from Shape and provide their own implementation of the area method.\n",
        "Encapsulation is demonstrated by using private attributes (prefixed with an underscore) in the Circle and Square classes.\n",
        "Polymorphism is demonstrated by the print_area function, which can accept any object that has an area method (both Circle and Square in this case).\n",
        "Remember that abstraction, encapsulation, inheritance, and polymorphism are principles that help in designing maintainable, modular, and reusable code in object-oriented programming."
      ],
      "metadata": {
        "id": "Yg1dX9Xsy-p7"
      }
    },
    {
      "cell_type": "code",
      "source": [
        "# Abstraction: Representing the essential features without including the background details\n",
        "class Shape:\n",
        "    def area(self):\n",
        "        pass\n",
        "\n",
        "# Encapsulation: Hiding the implementation details and restricting access to certain attributes or methods\n",
        "class Circle(Shape):\n",
        "    def __init__(self, radius):\n",
        "        self._radius = radius\n",
        "\n",
        "    def area(self):\n",
        "        return 3.14 * self._radius * self._radius\n",
        "\n",
        "# Inheritance: Creating a new class by inheriting properties and behaviors from an existing class\n",
        "class Square(Shape):\n",
        "    def __init__(self, side):\n",
        "        self._side = side\n",
        "\n",
        "    def area(self):\n",
        "        return self._side * self._side\n",
        "\n",
        "# Polymorphism: The ability of different classes to be used interchangeably based on a common interface\n",
        "def print_area(shape):\n",
        "    print(f\"Area: {shape.area()}\")\n",
        "\n",
        "# Example usage\n",
        "circle = Circle(5)\n",
        "square = Square(4)\n",
        "\n",
        "print_area(circle)  # Polymorphism: Using the common interface (area method) for different shapes\n",
        "print_area(square)"
      ],
      "metadata": {
        "colab": {
          "base_uri": "https://localhost:8080/"
        },
        "id": "PDYTQmQ4y8X_",
        "outputId": "2c655eec-f79d-49af-a336-a3fca0ab5899"
      },
      "execution_count": null,
      "outputs": [
        {
          "output_type": "stream",
          "name": "stdout",
          "text": [
            "Area: 78.5\n",
            "Area: 16\n"
          ]
        }
      ]
    }
  ]
}