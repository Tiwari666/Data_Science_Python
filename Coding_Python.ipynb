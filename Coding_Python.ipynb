{
  "nbformat": 4,
  "nbformat_minor": 0,
  "metadata": {
    "colab": {
      "provenance": [],
      "authorship_tag": "ABX9TyO1k69iOddiFJ0KX8Ct6Rqu",
      "include_colab_link": true
    },
    "kernelspec": {
      "name": "python3",
      "display_name": "Python 3"
    },
    "language_info": {
      "name": "python"
    }
  },
  "cells": [
    {
      "cell_type": "markdown",
      "metadata": {
        "id": "view-in-github",
        "colab_type": "text"
      },
      "source": [
        "<a href=\"https://colab.research.google.com/github/Tiwari666/Data_Science_Python/blob/main/Coding_Python.ipynb\" target=\"_parent\"><img src=\"https://colab.research.google.com/assets/colab-badge.svg\" alt=\"Open In Colab\"/></a>"
      ]
    },
    {
      "cell_type": "markdown",
      "source": [
        "#Example of function\n",
        "\n",
        "In Python, a function is a block of reusable code that performs a specific task."
      ],
      "metadata": {
        "id": "tknfmcSqhxZw"
      }
    },
    {
      "cell_type": "code",
      "source": [
        "def factorial(n):\n",
        "    if n < 0:\n",
        "        raise ValueError(\"The negaive number does not have factorial.\")\n",
        "    elif n == 0:\n",
        "        return 1\n",
        "    else:\n",
        "        result = 1\n",
        "        for i in range (1, n+1):\n",
        "            result *=i\n",
        "        return result\n",
        "\n",
        "\n",
        "#Use case\n",
        "number = 4\n",
        "result = factorial(4)\n",
        "print(f\"The factorial of {number} is:\",result)"
      ],
      "metadata": {
        "colab": {
          "base_uri": "https://localhost:8080/"
        },
        "id": "nfkTnJCrjvVV",
        "outputId": "cefcc32c-b40c-4ba3-c60f-0bd31b923590"
      },
      "execution_count": null,
      "outputs": [
        {
          "output_type": "stream",
          "name": "stdout",
          "text": [
            "The factorial of 4 is: 24\n"
          ]
        }
      ]
    },
    {
      "cell_type": "markdown",
      "source": [
        "# Exception handling:\n",
        "Exception handling is the process by which Python allows a programmer to handle these aforementioned \"bumps\" or errors.\n",
        "\n",
        "The most simple way of handling exceptions in Python is by using the `try` and `except` block. Run the code under the `try` statement.\n",
        "\n",
        "#In Python, the raise statement is used to raise exceptions programmatically.\n",
        "\n",
        "#Raise: gives the custom error.\n",
        "\n",
        "#Only \" Exception\" gives the universal error\n",
        "\n",
        "#\"try\" block checks the result.\n",
        "\n",
        "# Error is defined in the \"except\" block\n",
        "\n",
        "\n"
      ],
      "metadata": {
        "id": "e2b4F_Atn0nB"
      }
    },
    {
      "cell_type": "code",
      "source": [
        "# PRINT OUT THE NORMAL RESULT IF NO ERRORs\n",
        "def num_div(a,b):\n",
        "    if b ==0:\n",
        "        raise ZeroDivisionError(\"Division by zero is not allowed.\")\n",
        "    return a / b  # Return the result of division\n",
        "try:\n",
        "    result = num_div(10,2)\n",
        "    print(\"Result:\", result)\n",
        "except ZeroDivisionError as e:\n",
        "    print(\"An error has occured:\", e)\n"
      ],
      "metadata": {
        "colab": {
          "base_uri": "https://localhost:8080/"
        },
        "id": "LxP6IF8Ht9eG",
        "outputId": "1521ffea-f7e2-4898-945e-5c7d8ae8cebd"
      },
      "execution_count": null,
      "outputs": [
        {
          "output_type": "stream",
          "name": "stdout",
          "text": [
            "Result: 5.0\n"
          ]
        }
      ]
    },
    {
      "cell_type": "code",
      "source": [
        "# PRINT OUT THE CUSTOM ERROR\n",
        "def num_div(a, b):\n",
        "    if b == 0:\n",
        "        raise ZeroDivisionError(\"Division by zero is not allowed.\")\n",
        "    return a / b  # Return the result of division\n",
        "\n",
        "try:\n",
        "    result = num_div(10, 0)  # This will raise a ZeroDivisionError\n",
        "    print(\"Result:\", result)\n",
        "except ZeroDivisionError as e:#\n",
        "    print(\"An error has occurred:\", e)\n",
        "except Exception as e: #Universla error\n",
        "    print(\"An unexpected error has occurred:\", e)"
      ],
      "metadata": {
        "colab": {
          "base_uri": "https://localhost:8080/"
        },
        "id": "QrKu-xKWt9gU",
        "outputId": "3e9e5459-6526-42e6-c51c-98603defb9e2"
      },
      "execution_count": null,
      "outputs": [
        {
          "output_type": "stream",
          "name": "stdout",
          "text": [
            "An error has occurred: Division by zero is not allowed.\n"
          ]
        }
      ]
    },
    {
      "cell_type": "code",
      "source": [
        "# PRINT OUT THE Universla error\n",
        "def num_div(a, b):\n",
        "    if b == 0:\n",
        "        raise ZeroDivisionError(\"Division by zero is not allowed.\")\n",
        "    return a / b  # Return the result of division\n",
        "\n",
        "try:\n",
        "    result = num_div(10,G)  # This will raise a ZeroDivisionError\n",
        "    print(\"Result:\", result)\n",
        "except ZeroDivisionError as e:#\n",
        "    print(\"An error has occurred:\", e)\n",
        "except Exception as e: #Universla error\n",
        "    print(\"An unexpected error has occurred:\", e)"
      ],
      "metadata": {
        "colab": {
          "base_uri": "https://localhost:8080/"
        },
        "id": "-R_wZPY-0ErU",
        "outputId": "4bb16991-4ded-4fac-c251-a85338558481"
      },
      "execution_count": null,
      "outputs": [
        {
          "output_type": "stream",
          "name": "stdout",
          "text": [
            "An unexpected error has occurred: name 'G' is not defined\n"
          ]
        }
      ]
    },
    {
      "cell_type": "markdown",
      "source": [
        "# Definition:\n",
        "\n",
        "*args and **kwargs\n",
        "\n",
        "#'*arg' : only parameters without the key\n",
        "\n",
        "#'**kwarg\": parameters in the form of key-value pairs\n",
        "\n",
        "In Python, *args and **kwargs are special syntax used in function definitions to pass a variable number of arguments to a function. They allow to handle arbitrary numbers of positional and keyword arguments, respectively\n",
        "\n",
        "*args: It is used to pass a variable number of positional arguments to a function. The args parameter collects these arguments as a tuple within the function.\n",
        "\n",
        "**kwargs: It is used to pass a variable number of keyword arguments (i.e., arguments passed with keywords) to a function. The kwargs parameter collects these arguments as a dictionary within the function."
      ],
      "metadata": {
        "id": "Ovy0G_XW3Wlw"
      }
    },
    {
      "cell_type": "code",
      "source": [
        "def example_fun(*args,**kwargs):\n",
        "    print(\"Positional arguments (*args):\", args)\n",
        "    print(\"KeyWord arguments (** kwargs):\", kwargs)\n",
        "\n",
        "# Use case\n",
        "result = example_fun(1,2,3, name = \"alice\", loc = \"TX\")"
      ],
      "metadata": {
        "colab": {
          "base_uri": "https://localhost:8080/"
        },
        "id": "Z1HQq0tm3vwI",
        "outputId": "017932ff-a8f4-480e-cd1b-6c84b2c55cd2"
      },
      "execution_count": 1,
      "outputs": [
        {
          "output_type": "stream",
          "name": "stdout",
          "text": [
            "Positional arguments (*args): (1, 2, 3)\n",
            "KeyWord arguments (** kwargs): {'name': 'alice', 'loc': 'TX'}\n"
          ]
        }
      ]
    },
    {
      "cell_type": "markdown",
      "source": [
        "#ONE BEST EXAMPLE WITH ALL ABSTRACTS, ENCAPSULATION, INHERITANCE, POLYMORPHIS."
      ],
      "metadata": {
        "id": "UoqcdwWM6VTl"
      }
    },
    {
      "cell_type": "code",
      "source": [
        "# Abstract class:\n",
        "#the first defined general class is called the abstract because the \"Anmial\" class is  not particuLarly defined yet (i.e., the method though defined but is NOT implemented.)\n",
        "#The method of an abstract class is only  implemented inn the sub-class of the abstract class.\n",
        "class Animal:\n",
        "    def speak(self):\n",
        "        raise NotImplementedError(\"Subclass must implement abstract method\")\n",
        "\n",
        "\n",
        "#Here, the \"raise\" is used as a placeholder, meaning , that an exception can be raised in the future with the \"raise\" keyword IF NEEDED. see in the \"zoo\" class.\n",
        "\n",
        "# Encapsulation  and Inheritance\n",
        "#Encapsulation :  underscor_ before the attributes' name makes attribute private.\n",
        "#Private attributes can be called only within the class itself.\n",
        "#If we need to call this private attribute in other classes, we need to encapsulate it.\n",
        "class Dog(Animal):\n",
        "    def __init__(self, name):\n",
        "        self._name = name\n",
        "\n",
        "    def speak(self):\n",
        "        return f\"{self._name} says Woof!\"\n",
        "\n",
        "# Polymorphism=method overloading and method overrding\n",
        "# method overloading : using same method name at different classes or subclasses\n",
        "#method overrding : implementing parent method on child class\n",
        "class Cat(Animal):\n",
        "    def __init__(self, name):\n",
        "        self._name = name\n",
        "\n",
        "    def speak(self):\n",
        "        return f\"{self._name} says Meow!\"\n",
        "\n",
        "# Inheritance\n",
        "class Cow(Animal):\n",
        "    def __init__(self, name):\n",
        "        self._name = name\n",
        "\n",
        "    def speak(self):\n",
        "        return f\"{self._name} says Moo!\"\n",
        "\n",
        "# Encapsulation\n",
        "class Zoo:\n",
        "    def __init__(self):\n",
        "        self._animals = []\n",
        "\n",
        "    def add_animal(self, animal):\n",
        "        if isinstance(animal, Animal):\n",
        "            self._animals.append(animal)\n",
        "        else:\n",
        "            raise TypeError(\"Only Animal objects can be added to the zoo\")\n",
        "\n",
        "    def display_animals(self):\n",
        "        for animal in self._animals:\n",
        "            print(animal.speak())\n",
        "\n",
        "# Creating instances\n",
        "dog = Dog(\"Buddy\")\n",
        "cat = Cat(\"Whiskers\")\n",
        "cow = Cow(\"Bessie\")\n",
        "\n",
        "# Creating Zoo and adding animals\n",
        "zoo = Zoo()\n",
        "zoo.add_animal(dog)\n",
        "zoo.add_animal(cat)\n",
        "zoo.add_animal(cow)\n",
        "\n",
        "# Displaying animals\n",
        "zoo.display_animals()"
      ],
      "metadata": {
        "colab": {
          "base_uri": "https://localhost:8080/"
        },
        "id": "ulgXLh_57ScH",
        "outputId": "fe7caa43-c8bc-4f74-85c6-88b6404fc123"
      },
      "execution_count": null,
      "outputs": [
        {
          "output_type": "stream",
          "name": "stdout",
          "text": [
            "Buddy says Woof!\n",
            "Whiskers says Meow!\n",
            "Bessie says Moo!\n"
          ]
        }
      ]
    },
    {
      "cell_type": "markdown",
      "source": [
        "#Explanation of above code:\n",
        "\n",
        "In this example:\n",
        "\n",
        "Abstract class: Animal is an abstract class with an abstract method speak(). It cannot be instantiated directly.\n",
        "\n",
        "Encapsulation: The _name attribute of Dog, Cat, and Cow classes is encapsulated by using a single leading underscore to indicate it's a non-public attribute.\n",
        "Inheritance: Dog, Cat, and Cow classes inherit from the Animal class, demonstrating inheritance.\n",
        "\n",
        "Polymorphism: Each subclass (Dog, Cat, and Cow) overrides the speak() method of the Animal class to provide its own implementation, demonstrating polymorphism.\n",
        "\n",
        "Encapsulation and Composition: The Zoo class encapsulates a list of Animal objects and provides methods to add animals (add_animal()) and display their sounds (display_animals()). It demonstrates encapsulation and composition by containing and managing instances of other classes.\n",
        "\n",
        "In the provided code, the line raise NotImplementedError(\"Subclass must implement abstract method\") is used within the speak() method of the Animal class. This line is used as a placeholder to indicate that the speak() method is an abstract method and must be implemented by any subclass of the Animal class.\n",
        "\n",
        "In object-oriented programming, an abstract method is a method declared in a base class (or abstract class) that has no implementation in the base class itself but must be implemented in the derived classes (or concrete subclasses) that inherit from it.\n",
        "\n",
        "# __init__ to initialize instance attributes of an object. This allows us to set up the initial state of an object when it is created."
      ],
      "metadata": {
        "id": "pXw7Kfud8g13"
      }
    },
    {
      "cell_type": "markdown",
      "source": [
        "#Example of __init__ method:\n",
        "\n",
        "__init__ is the name of the method.\n",
        "\n",
        "The __init__ method in Python is a special method, also known as the constructor method, used for initializing objects of a class. It is automatically called when a new instance of the class is created. The purpose of the __init__ method is to set up the initial state of an object by assigning initial values to its attributes.\n",
        "\n",
        "self is the first parameter of the __init__ method, representing the instance of the class itself.\n",
        "\n",
        "\"name\" and \"age\" are the parameters passed to the method when creating an instance of the class. These parameters are used to initialize the attributes of the object."
      ],
      "metadata": {
        "id": "aPm8cwQZ9Bw3"
      }
    },
    {
      "cell_type": "code",
      "source": [
        "class Person:\n",
        "    def __init__(self, name, age):\n",
        "        self.name = name\n",
        "        self.age = age\n",
        "\n",
        "    def display_info(self):\n",
        "        print(f\"Name: {self.name}, Age: {self.age}\")\n",
        "\n",
        "# Creating instances of the Person class\n",
        "person1 = Person(\"Alice\", 30)\n",
        "person2 = Person(\"Bob\", 25)\n",
        "\n",
        "# Displaying information about the persons\n",
        "person1.display_info()\n",
        "person2.display_info()"
      ],
      "metadata": {
        "colab": {
          "base_uri": "https://localhost:8080/"
        },
        "id": "-hcgw694H530",
        "outputId": "08ae029a-c8b0-4ef3-ab0b-ad982f609aff"
      },
      "execution_count": null,
      "outputs": [
        {
          "output_type": "stream",
          "name": "stdout",
          "text": [
            "Name: Alice, Age: 30\n",
            "Name: Bob, Age: 25\n"
          ]
        }
      ]
    },
    {
      "cell_type": "markdown",
      "source": [
        "# What are global and local variables in Python?"
      ],
      "metadata": {
        "id": "nJ7x1eC4H6z8"
      }
    },
    {
      "cell_type": "markdown",
      "source": [
        "In Python, a variable that is defined outside of any function or class is a global variable, while a variable that is defined inside a function or class is a local variable.\n",
        "\n",
        "A global variable can be accessed from anywhere in the program, including inside functions and classes. However, a local variable can only be accessed within the function or class in which it is defined.\n",
        "\n",
        "It is important to note that we can use the same name for a global variable and a local variable, but the local variable will take precedence over the global variable within the function or class in which it is defined."
      ],
      "metadata": {
        "id": "VGxRKgpwxPKB"
      }
    },
    {
      "cell_type": "markdown",
      "source": [
        "#Example  of global and local variables in Python"
      ],
      "metadata": {
        "id": "Z9ldoBuHxUnw"
      }
    },
    {
      "cell_type": "code",
      "source": [
        "# Global variable\n",
        "global_length = 5\n",
        "\n",
        "\n",
        "\n",
        "def cal_area(width):\n",
        "    area = global_length*width  # Local variable\n",
        "    return area\n",
        "\n",
        "#Usecase:\n",
        "width =3\n",
        "my_result = cal_area(global_length)\n",
        "print(f\"The area of a rectangle  with length,{global_length},and the width,{width}, is {cal_area(width)}.\")\n"
      ],
      "metadata": {
        "colab": {
          "base_uri": "https://localhost:8080/"
        },
        "id": "1j4s4YJxzN5n",
        "outputId": "351cd6d9-3f9a-4743-b245-8846ffe3da8d"
      },
      "execution_count": 15,
      "outputs": [
        {
          "output_type": "stream",
          "name": "stdout",
          "text": [
            "The area of a rectangle  with length,5,and the width,3, is 15.\n"
          ]
        }
      ]
    }
  ]
}