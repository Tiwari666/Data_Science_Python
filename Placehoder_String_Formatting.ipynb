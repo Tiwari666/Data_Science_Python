{
  "nbformat": 4,
  "nbformat_minor": 0,
  "metadata": {
    "colab": {
      "provenance": [],
      "authorship_tag": "ABX9TyOBioFnu3Zx8UclVu6QH62C",
      "include_colab_link": true
    },
    "kernelspec": {
      "name": "python3",
      "display_name": "Python 3"
    },
    "language_info": {
      "name": "python"
    }
  },
  "cells": [
    {
      "cell_type": "markdown",
      "metadata": {
        "id": "view-in-github",
        "colab_type": "text"
      },
      "source": [
        "<a href=\"https://colab.research.google.com/github/Tiwari666/Data_Science_Python/blob/main/Placehoder_String_Formatting.ipynb\" target=\"_parent\"><img src=\"https://colab.research.google.com/assets/colab-badge.svg\" alt=\"Open In Colab\"/></a>"
      ]
    },
    {
      "cell_type": "markdown",
      "source": [
        "# **Placeholder in a string format/string formatting placeholders**\n",
        "In Python, a placeholder typically refers to a special character or sequence used to represent data that will be substituted into a string at runtime. One common way to use placeholders is through string formatting.\n",
        "\n",
        "\n",
        "Placeholders are commonly used in programming languages, frameworks, and libraries for various purposes, such as defining variables, formatting strings, or specifying values for input parameters.\n",
        "\n",
        "Placeholders allow developers to write code that can be reused with different inputs or configurations without having to hardcode specific values."
      ],
      "metadata": {
        "id": "7FVoNYddnwXv"
      }
    },
    {
      "cell_type": "markdown",
      "source": [
        "# **Example of string formatting using placeholders:**"
      ],
      "metadata": {
        "id": "fvfE6iQfoa0G"
      }
    },
    {
      "cell_type": "code",
      "source": [
        "name = \"john\"\n",
        "age =26\n",
        "occupation=\"Data scientist\"\n",
        "# Using format method with placeholders\n",
        "message = \"Hello, my name is {} and I am {} years young. My profession is a {}.\".format(name,age,occupation)\n",
        "print(message)"
      ],
      "metadata": {
        "colab": {
          "base_uri": "https://localhost:8080/"
        },
        "id": "Nt8qcQFanp__",
        "outputId": "58b82793-d643-46e8-a6aa-3f967966c2a2"
      },
      "execution_count": 15,
      "outputs": [
        {
          "output_type": "stream",
          "name": "stdout",
          "text": [
            "Hello, my name is john and I am 26 years young. My profession is a Data scientist.\n"
          ]
        }
      ]
    },
    {
      "cell_type": "markdown",
      "source": [
        "In this example, {} serves as a placeholder for the variables name, age, and occupation. The format() method substitutes the placeholders with the actual values."
      ],
      "metadata": {
        "id": "IXldXiMWpm3D"
      }
    },
    {
      "cell_type": "markdown",
      "source": [
        "# **Example of f-strings for string interpolation:**"
      ],
      "metadata": {
        "id": "WkTOMrP3p47m"
      }
    },
    {
      "cell_type": "code",
      "source": [
        "name = \"john\"\n",
        "age =26\n",
        "occupation=\"Data scientist\"\n",
        "message = f\"Hello, my name is {name} and I am {age} years young. My profession is a {occupation}.\"\n",
        "print(message)"
      ],
      "metadata": {
        "colab": {
          "base_uri": "https://localhost:8080/"
        },
        "id": "bwxPeJwHpxz-",
        "outputId": "711dc20b-74dd-433d-8a14-ee87ec9ade15"
      },
      "execution_count": 17,
      "outputs": [
        {
          "output_type": "stream",
          "name": "stdout",
          "text": [
            "Hello, my name is john and I am 26 years young. My profession is a Data scientist.\n"
          ]
        }
      ]
    },
    {
      "cell_type": "markdown",
      "source": [
        "# **Placeholder for a string and for a number:**\n",
        "\n",
        "In Python, %s and %d are string formatting placeholders used with the % operator to insert values into strings.\n",
        "\n",
        "%s is used as a placeholder for string values.\n",
        "\n",
        "%d is used as a placeholder for integer values.\n",
        "\n",
        "Their associated values are passed in via a tuple using the % operator."
      ],
      "metadata": {
        "id": "calSQbumr8Hg"
      }
    },
    {
      "cell_type": "markdown",
      "source": [
        "# **Example of placeholder using the % operator:**"
      ],
      "metadata": {
        "id": "7G9Zt6t7ty3A"
      }
    },
    {
      "cell_type": "code",
      "source": [
        "name = \"john\"\n",
        "age =26\n",
        "occupation=\"Data scientist\"\n",
        "message = \"Hello, my name is %s and I am %d years young. My profession is a %s.\" % (name,age,occupation)\n",
        "print(message)"
      ],
      "metadata": {
        "colab": {
          "base_uri": "https://localhost:8080/"
        },
        "id": "Pe2VHfZKr-pW",
        "outputId": "79c38f5f-85c3-440d-8483-bd85e6304470"
      },
      "execution_count": 20,
      "outputs": [
        {
          "output_type": "stream",
          "name": "stdout",
          "text": [
            "Hello, my name is john and I am 26 years young. My profession is a Data scientist.\n"
          ]
        }
      ]
    },
    {
      "cell_type": "markdown",
      "source": [
        "# **Example of Placeholder in a SQL query:**"
      ],
      "metadata": {
        "id": "WYvjUUUouFOh"
      }
    },
    {
      "cell_type": "code",
      "source": [
        "sql_query= \"SELECT * FROM Table1 WHERE id = %s\"\n",
        "user_id = 123\n",
        "formattted_query = sql_query % user_id\n",
        "print(formattted_query)"
      ],
      "metadata": {
        "colab": {
          "base_uri": "https://localhost:8080/"
        },
        "id": "q0RwJv-duGhH",
        "outputId": "1e2308b1-6bc5-4dff-9c6a-ff414ab35319"
      },
      "execution_count": 21,
      "outputs": [
        {
          "output_type": "stream",
          "name": "stdout",
          "text": [
            "SELECT * FROM Table1 WHERE id = 123\n"
          ]
        }
      ]
    }
  ]
}