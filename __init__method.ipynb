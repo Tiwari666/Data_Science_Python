{
  "nbformat": 4,
  "nbformat_minor": 0,
  "metadata": {
    "colab": {
      "provenance": [],
      "authorship_tag": "ABX9TyMs5ISNEDeC/6eGrnn8vkm+",
      "include_colab_link": true
    },
    "kernelspec": {
      "name": "python3",
      "display_name": "Python 3"
    },
    "language_info": {
      "name": "python"
    }
  },
  "cells": [
    {
      "cell_type": "markdown",
      "metadata": {
        "id": "view-in-github",
        "colab_type": "text"
      },
      "source": [
        "<a href=\"https://colab.research.google.com/github/Tiwari666/Data_Science_Python/blob/main/__init__method.ipynb\" target=\"_parent\"><img src=\"https://colab.research.google.com/assets/colab-badge.svg\" alt=\"Open In Colab\"/></a>"
      ]
    },
    {
      "cell_type": "markdown",
      "source": [
        "# **__ init __ Method**\n",
        "\n",
        "In Python, the __ init __  method is a special method used to initialize newly created objects.\n",
        "\n",
        "It's also known as the constructor method because it's called automatically when a new instance of the class is created.\n",
        "\n",
        "We can define the __ init __ method in a class to set up initial attributes or perform any necessary setup operations.\n",
        "\n",
        "\n",
        "Its primary purpose is to initialize the attributes (instance variables) of the object, setting up its initial state."
      ],
      "metadata": {
        "id": "pQhV6REV0KPm"
      }
    },
    {
      "cell_type": "markdown",
      "source": [
        "# **Example of __ init __ Method:**"
      ],
      "metadata": {
        "id": "kvwhv4Tx1uIQ"
      }
    },
    {
      "cell_type": "code",
      "source": [
        "# A sample class with init method\n",
        "class Car:\n",
        "    def __init__(self,year, make,model):\n",
        "        self.year = year\n",
        "        self.make= make\n",
        "        self.model =model\n",
        "\n",
        "    def dis_info(self):\n",
        "        print(f\"Car: {self.make}, {self.model}, {self.year}.\")\n",
        "\n",
        "# Creating instances of the Car class\n",
        "car1 =Car(1990,\"Toyota\", \"Camry\")\n",
        "car2 = Car(2010, \"Honda\", \"Pilot\")\n",
        "car3 = Car(2016, \"Ford\", \"Fusion\")\n",
        "\n",
        "# Displaying information about the cars\n",
        "car1.dis_info()\n",
        "car2.dis_info()\n",
        "car3.dis_info()"
      ],
      "metadata": {
        "colab": {
          "base_uri": "https://localhost:8080/"
        },
        "id": "yQmtHR5709aI",
        "outputId": "8c8fd2c5-7b54-44fc-fa0c-dedb20b6f20f"
      },
      "execution_count": 2,
      "outputs": [
        {
          "output_type": "stream",
          "name": "stdout",
          "text": [
            "Car: Toyota, Camry, 1990.\n",
            "Car: Honda, Pilot, 2010.\n",
            "Car: Ford, Fusion, 2016.\n"
          ]
        }
      ]
    },
    {
      "cell_type": "markdown",
      "source": [
        "In this example:\n",
        "\n",
        "    I define a Car class with an __init__ method that initializes make, model, and year attributes of a car.\n",
        "    I create two instances of the Car class (car1 and car2) by passing values for make, model, and year.\n",
        "    I call the display_info method on each car instance to display information about the cars.\n",
        "\n",
        "The __init__ method allows us to ensure that each instance of the class is properly initialized with the required attributes when it is created."
      ],
      "metadata": {
        "id": "Sxd75tgX5XDZ"
      }
    }
  ]
}